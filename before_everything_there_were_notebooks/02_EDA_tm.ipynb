{
 "cells": [
  {
   "cell_type": "markdown",
   "id": "c6893f29-f790-4560-8fd9-b0bdb724b710",
   "metadata": {},
   "source": [
    "# The modelling process\n",
    "This notebook represents our work to solve the problem of bank marketing."
   ]
  },
  {
   "cell_type": "markdown",
   "id": "bdcd3f5e-b796-4b65-9d3d-e5a7abbd255b",
   "metadata": {},
   "source": [
    "👨‍💻: I've compiled a complete definition of our dataset, here's a list of things I could gather from it:"
   ]
  },
  {
   "cell_type": "markdown",
   "id": "204d7a0e-f84f-4d7c-88bd-f99cb03c281a",
   "metadata": {},
   "source": [
    "|Variable|Also called|Description|Type|\n",
    "|--------|-----------|-----------|----|\n",
    "|age|||(numeric)||\n",
    "|job||type of job| (categorical: 'admin.','blue-collar','entrepreneur','housemaid','management','retired','self-employed','services','student','technician','unemployed','unknown')|\n",
    "|marital||marital status| (categorical: 'divorced','married','single','unknown'; note: 'divorced' means divorced or widowed)|\n",
    "|education||| (categorical: 'basic.4y','basic.6y','basic.9y','high.school','illiterate','professional.course','university.degree','unknown')|\n",
    "|default||has credit in default?| (categorical: 'no','yes','unknown')|\n",
    "|housing||has housing loan?| (categorical: 'no','yes','unknown')|\n",
    "|loan||has personal loan?| (categorical: 'no','yes','unknown')|\n",
    "|**RELATED WITH THE LAST CONTACT OF THE CURRENT CAMPAIGN:**|\n",
    "|contact|comm_type|contact communication type| (categorical: 'cellular','telephone') |\n",
    "|month|comm_month|last contact month of year| (categorical: 'jan', 'feb', 'mar', ..., 'nov', 'dec')|\n",
    "|day_of_week|comm_day|last contact day of the week| (categorical: 'mon','tue','wed','thu','fri')|\n",
    "|duration|comm_duration|last contact duration, in seconds| (numeric). Important note:  this attribute highly affects the output target (e.g., if duration=0 then y='no'). Yet, the duration is not known before a call is performed. Also, after the end of the call y is obviously known. Thus, this input should only be included for benchmark purposes and should be discarded if the intention is to have a realistic predictive model.|\n",
    "|**OTHER ATTRIBUTES**|\n",
    "|campaign|curr_n_contact|number of contacts performed during this campaign and for this client| (numeric, includes last contact)\n",
    "|pdays|days_since_last_campaign|number of days that passed by after the client was last contacted from a previous campaign| (numeric; 999 means client was not previously contacted)\n",
    "|previous|last_n_contact|number of contacts performed before this campaign and for this client| (numeric)\n",
    "|poutcome|last_outcome|outcome of the previous marketing campaign| (categorical: 'failure','nonexistent','success')\n",
    "|**SOCIAL AND ECONOMIC CONTEXT ATTRIBUTES**|\n",
    "|emp.var.rate||employment variation rate - quarterly indicator| (numeric)|\n",
    "|cons.price.idx||consumer price index - monthly indicator| (numeric)|\n",
    "|cons.conf.idx||consumer confidence index - monthly indicator| (numeric)|\n",
    "|euribor3m||euribor 3 month rate - daily indicator| (numeric)|\n",
    "|y|curr_outcome|Whether deposited|(categorical: 'yes', 'no')|\n"
   ]
  },
  {
   "cell_type": "markdown",
   "id": "a557144b-9ec6-4992-b819-53ee04801b32",
   "metadata": {},
   "source": [
    "<hr/>\n",
    "<p style=\"font-size: 1.3em; color: red;\">START: Dependencies</p>"
   ]
  },
  {
   "cell_type": "markdown",
   "id": "23358428-6d3b-4e77-a0c7-af820b92f08d",
   "metadata": {},
   "source": [
    "<p style=\"font-size: 1.3em; color: red;\">End of section: Dependencies. STOP HERE AND GO BACK TO INSTRUCTIONS</p>\n",
    "<hr/>"
   ]
  },
  {
   "cell_type": "markdown",
   "id": "60171100-4267-4626-bd73-154c216b901f",
   "metadata": {},
   "source": [
    "<hr/>\n",
    "<p style=\"font-size: 1.3em; color: red;\">START: Dependencies</p>"
   ]
  },
  {
   "cell_type": "markdown",
   "id": "4633cfb0-679b-4680-8ad5-91db2268bd49",
   "metadata": {},
   "source": [
    "👨‍💻: All good notebooks start with the imports at the top..."
   ]
  },
  {
   "cell_type": "code",
   "execution_count": null,
   "id": "7d53708f-1d42-497e-bd12-f62fc3d0d7f7",
   "metadata": {},
   "outputs": [],
   "source": [
    "import pandas as pd\n",
    "import numpy as np\n",
    "import matplotlib as plt\n",
    "import seaborn as sns\n",
    "from sklearn.model_selection import train_test_split"
   ]
  },
  {
   "cell_type": "markdown",
   "id": "527484c0-b416-40fd-b647-4861cbb21e59",
   "metadata": {},
   "source": [
    "Install libraries if they aren't installed, so this notebook can always have up-to-date dependencies\n",
    "\n",
    "_Note: rerun previous cell after install !_"
   ]
  },
  {
   "cell_type": "code",
   "execution_count": null,
   "id": "d73659d3-8027-4888-8120-3e1f20c8cb7f",
   "metadata": {
    "scrolled": true
   },
   "outputs": [],
   "source": [
    "! pip install pandas numpy matplotlib seaborn scikit-learn"
   ]
  },
  {
   "cell_type": "markdown",
   "id": "5c22d130-4a83-4fb8-9b09-977dd228269d",
   "metadata": {},
   "source": [
    "<p style=\"font-size: 1.3em; color: red;\">End of section: Dependencies. STOP HERE AND GO BACK TO INSTRUCTIONS</p>\n",
    "<hr/>"
   ]
  },
  {
   "cell_type": "markdown",
   "id": "b22bec44-c779-46ce-b023-d497fc23349e",
   "metadata": {},
   "source": [
    "<hr/>\n",
    "<p style=\"font-size: 1.3em; color: red;\">START: EDA</p>"
   ]
  },
  {
   "cell_type": "markdown",
   "id": "2fef92de-d16d-435b-8314-6bac295a7b26",
   "metadata": {},
   "source": [
    "## Let's start with EDA"
   ]
  },
  {
   "cell_type": "markdown",
   "id": "a67dc8d8-43e9-4297-b6bc-e967110cbea8",
   "metadata": {},
   "source": [
    "<span style=\"background-color: yellow;\">TODO: FIND ERROR(S) AND IDENTIFY IMPROVEMENT(S)</span>"
   ]
  },
  {
   "cell_type": "code",
   "execution_count": null,
   "id": "46e2ae66-2972-47c8-af04-2b18920cd001",
   "metadata": {},
   "outputs": [],
   "source": [
    "df = pd.read_csv('/home/emilio/Repos/work/ivado/ml-powered-bank-marketing-solution/before_everything_there_were_notebooks/data/csv/bank_marketing_2008-05-01_to_2010-07-31.csv', sep=';')\n",
    "\n",
    "# This is necessary because we had to rename the columns at some point...\n",
    "df = df.rename(columns={\"comm_type\": \"contact\",\n",
    "\"comm_month\": \"month\",\n",
    "\"comm_day\": \"day_of_week\",\n",
    "\"comm_duration\": \"duration\",\n",
    "\"curr_n_contact\": \"campaign\",\n",
    "\"days_since_last_campaign\": \"pdays\",\n",
    "\"last_n_contact\": \"previous\",\n",
    "\"last_outcome\": \"poutcome\",\n",
    "\"curr_outcome\": \"y\"})"
   ]
  },
  {
   "cell_type": "code",
   "execution_count": null,
   "id": "fc073484-1bd2-4580-b695-2ff6928a6a1c",
   "metadata": {},
   "outputs": [],
   "source": [
    "df.head()"
   ]
  },
  {
   "cell_type": "code",
   "execution_count": null,
   "id": "c5ec56e3-7dc7-47fb-9d0b-6ab197514171",
   "metadata": {},
   "outputs": [],
   "source": [
    "df.describe()"
   ]
  },
  {
   "cell_type": "code",
   "execution_count": null,
   "id": "6c85122f-300a-4214-a9ab-7165e64fed15",
   "metadata": {},
   "outputs": [],
   "source": [
    "# Let's check how pandas imported this dataframe\n",
    "print(df.dtypes)"
   ]
  },
  {
   "cell_type": "code",
   "execution_count": null,
   "id": "6f25fa83-d10a-4e6c-9aa1-21dcd09e1b75",
   "metadata": {},
   "outputs": [],
   "source": [
    "print([col for col in df.columns if df[col].dtype != 'object'])"
   ]
  },
  {
   "cell_type": "markdown",
   "id": "a351d67b-4184-4975-9adc-dae7430e468a",
   "metadata": {},
   "source": [
    "Categorical columns:"
   ]
  },
  {
   "cell_type": "code",
   "execution_count": null,
   "id": "e9229911-e1b9-4524-9282-3c9221614dda",
   "metadata": {},
   "outputs": [],
   "source": [
    "print([col for col in df.columns if df[col].dtype == 'object'])"
   ]
  },
  {
   "cell_type": "markdown",
   "id": "74c2289c-0340-4c9b-860d-887760499b1e",
   "metadata": {},
   "source": [
    "### General column information"
   ]
  },
  {
   "cell_type": "code",
   "execution_count": null,
   "id": "0dcfbaef-e671-4a6b-b153-fea0ad87f90b",
   "metadata": {},
   "outputs": [],
   "source": [
    "for col_name in df.columns:\n",
    "    col = df[col_name]\n",
    "    if col.dtype == 'object':\n",
    "        print('Column', col_name, 'has {} columns. Values are:'.format(col.unique().shape[0]))\n",
    "        print('  ', col.unique())\n",
    "    else:\n",
    "        print(col.describe())\n",
    "    print('---')"
   ]
  },
  {
   "cell_type": "markdown",
   "id": "ad491866-9067-487a-b356-d9401781beba",
   "metadata": {},
   "source": [
    "### Some other checks"
   ]
  },
  {
   "cell_type": "code",
   "execution_count": null,
   "id": "60bb8d0b-0b02-4754-ab6d-f67dc4698000",
   "metadata": {},
   "outputs": [],
   "source": [
    "df['pdays'].describe()"
   ]
  },
  {
   "cell_type": "markdown",
   "id": "209f895b-bd87-4ae2-8805-6715708c489b",
   "metadata": {},
   "source": [
    "### Checking for categorical values"
   ]
  },
  {
   "cell_type": "code",
   "execution_count": null,
   "id": "ba8fa169-96f8-447b-a081-6787c3ffe1ea",
   "metadata": {},
   "outputs": [],
   "source": [
    "df['job'].unique()"
   ]
  },
  {
   "cell_type": "code",
   "execution_count": null,
   "id": "50611a81-580a-4832-a6a1-fc87a46271ca",
   "metadata": {},
   "outputs": [],
   "source": [
    "(df['y'] == 'yes').astype(int).sum()"
   ]
  },
  {
   "cell_type": "code",
   "execution_count": null,
   "id": "40dfcfc3-5978-4b4c-bdf7-15194798a7c2",
   "metadata": {},
   "outputs": [],
   "source": [
    "df.y.value_counts()"
   ]
  },
  {
   "cell_type": "code",
   "execution_count": null,
   "id": "07a72f31-928f-4b6d-98df-c32e657555b9",
   "metadata": {},
   "outputs": [],
   "source": [
    "sns.histplot(df.campaign)"
   ]
  },
  {
   "cell_type": "markdown",
   "id": "2613fefd-a887-491e-97c9-04b7144b07d0",
   "metadata": {},
   "source": [
    "### Examining duration"
   ]
  },
  {
   "cell_type": "code",
   "execution_count": null,
   "id": "66fa1ff7-000b-4521-9e57-fed1b31437ea",
   "metadata": {},
   "outputs": [],
   "source": [
    "df[df.duration < 1]"
   ]
  },
  {
   "cell_type": "code",
   "execution_count": null,
   "id": "f15a9628-f156-4002-9810-0c3fa149be3d",
   "metadata": {},
   "outputs": [],
   "source": [
    "df[df.duration == 0]"
   ]
  },
  {
   "cell_type": "code",
   "execution_count": null,
   "id": "0cfc5bd7-29ae-42b4-9e40-06c47c55f913",
   "metadata": {},
   "outputs": [],
   "source": [
    "df.duration[df.duration <= 900].hist(bins=100)"
   ]
  },
  {
   "cell_type": "markdown",
   "id": "38d774ad-7db5-4f9c-a4eb-93af0f99cd05",
   "metadata": {},
   "source": [
    "### Examining previous contacts"
   ]
  },
  {
   "cell_type": "code",
   "execution_count": null,
   "id": "9edbab79-f1fc-417d-a579-a67deb9395e0",
   "metadata": {},
   "outputs": [],
   "source": [
    "df[df.previous > 0]"
   ]
  },
  {
   "cell_type": "markdown",
   "id": "ff36caf9-b9d1-4529-b157-41980a68d9be",
   "metadata": {},
   "source": [
    "### Examining previous campaigns"
   ]
  },
  {
   "cell_type": "markdown",
   "id": "30947a3b-11a2-421f-925d-65ab9b20cf15",
   "metadata": {},
   "source": [
    "TODO: Explain this, how can we have **not contacted** someone and have a **failure**?"
   ]
  },
  {
   "cell_type": "code",
   "execution_count": null,
   "id": "3b46d9fa-ce9b-42dd-8390-1c86f62eb176",
   "metadata": {},
   "outputs": [],
   "source": [
    "df[(df.pdays == 999) & (df.poutcome != 'nonexistent')]"
   ]
  },
  {
   "cell_type": "code",
   "execution_count": null,
   "id": "b0b1a8c1-6d32-451c-b81e-b622cbec51e5",
   "metadata": {},
   "outputs": [],
   "source": [
    "df[(df.pdays == 999) & (df.poutcome == 'failure')]"
   ]
  },
  {
   "cell_type": "code",
   "execution_count": null,
   "id": "caa3d00a-d272-4637-a792-3b35ab5d9f85",
   "metadata": {},
   "outputs": [],
   "source": [
    "df[df.poutcome == 'nonexistent']"
   ]
  },
  {
   "cell_type": "code",
   "execution_count": null,
   "id": "7017313b-4651-401d-b04d-06e9c6945cfc",
   "metadata": {},
   "outputs": [],
   "source": [
    "df[df.pdays == 999].poutcome.hist()"
   ]
  },
  {
   "cell_type": "code",
   "execution_count": null,
   "id": "3473cbc8-c729-464f-a40e-a31563e8aad5",
   "metadata": {},
   "outputs": [],
   "source": [
    "df[df.campaign == 0]"
   ]
  },
  {
   "cell_type": "code",
   "execution_count": null,
   "id": "5e5b3285-2b38-4adc-bfc8-2fb2a9eaebcf",
   "metadata": {},
   "outputs": [],
   "source": [
    "df[df.pdays == 999].campaign.describe()"
   ]
  },
  {
   "cell_type": "code",
   "execution_count": null,
   "id": "ccc8480a-d2ff-45e5-93d9-088b69fb2539",
   "metadata": {},
   "outputs": [],
   "source": [
    "df[df.pdays == 999]['y'].hist()"
   ]
  },
  {
   "cell_type": "code",
   "execution_count": null,
   "id": "e99a29c9-8be9-4365-9404-44630160a85d",
   "metadata": {},
   "outputs": [],
   "source": [
    "# Check if same person there multiple times\n",
    "df[df[[\"age\",\"job\",\"marital\",\"education\",\"default\",\"housing\",\"loan\",\"contact\"]].duplicated(keep=False)].sort_values([\"age\",\"job\",\"marital\",\"education\",\"default\",\"housing\",\"loan\",\"contact\"]).head(20)"
   ]
  },
  {
   "cell_type": "code",
   "execution_count": null,
   "id": "f90f623c-5af5-4058-a7fb-ba9be51cae09",
   "metadata": {},
   "outputs": [],
   "source": [
    "df.euribor3m.plot()"
   ]
  },
  {
   "cell_type": "code",
   "execution_count": null,
   "id": "8d17412a-5424-485c-b282-b4335104d310",
   "metadata": {},
   "outputs": [],
   "source": [
    "df['emp.var.rate'].plot()"
   ]
  },
  {
   "cell_type": "code",
   "execution_count": null,
   "id": "564b1c0d-af17-4bba-9b66-9b7a17d79c94",
   "metadata": {},
   "outputs": [],
   "source": [
    "df['nr.employed'].plot()"
   ]
  },
  {
   "cell_type": "code",
   "execution_count": null,
   "id": "8e4341b8-26cf-4bd7-9515-73a2bfe420ca",
   "metadata": {},
   "outputs": [],
   "source": [
    "df['cons.conf.idx'].plot()"
   ]
  },
  {
   "cell_type": "code",
   "execution_count": null,
   "id": "c214135a-1795-4d52-a04a-ca7664e7318a",
   "metadata": {},
   "outputs": [],
   "source": [
    "df['cons.price.idx'].plot()"
   ]
  },
  {
   "cell_type": "markdown",
   "id": "909ff919-7199-42d2-a9c2-a0874177de20",
   "metadata": {},
   "source": [
    "<p style=\"font-size: 1.3em; color: red;\">End of section: EDA STOP HERE AND GO BACK TO INSTRUCTIONS</p>\n",
    "<hr/>"
   ]
  },
  {
   "cell_type": "markdown",
   "id": "06531c96-33ad-49ed-a2b4-f3427207d5cf",
   "metadata": {},
   "source": [
    "<hr/>\n",
    "<p style=\"font-size: 1.3em; color: red;\">START: First Model, in EDA 🤔? </p>"
   ]
  },
  {
   "cell_type": "markdown",
   "id": "c6233fd2-dd07-443b-b7ed-45356581ae88",
   "metadata": {},
   "source": [
    "# Let's try to build a model"
   ]
  },
  {
   "cell_type": "markdown",
   "id": "de278faf-10be-4628-912e-f3ff2812e151",
   "metadata": {},
   "source": [
    "👨‍💻: I think I understand the data enough to make a model at this point."
   ]
  },
  {
   "cell_type": "code",
   "execution_count": null,
   "id": "bfa1cc36-2ca5-4661-accd-1ad06e664899",
   "metadata": {},
   "outputs": [],
   "source": [
    "y = df.y.replace({'yes':1, 'no':0 })"
   ]
  },
  {
   "cell_type": "code",
   "execution_count": null,
   "id": "d5fa8282-fc9e-4e61-bb1b-a7c4ecb96831",
   "metadata": {
    "scrolled": true
   },
   "outputs": [],
   "source": [
    "train_x, test_x, train_y, test_y = train_test_split(df.drop(columns='y'), y, train_size=0.8)\n",
    "train_x, val_x, train_y, val_y = train_test_split(train_x, train_y, train_size=0.8)"
   ]
  },
  {
   "cell_type": "code",
   "execution_count": null,
   "id": "5af962e0-7ccb-487c-9f2e-0da7a87657cf",
   "metadata": {},
   "outputs": [],
   "source": [
    "train_x.shape, train_y.shape, val_x.shape, val_y.shape"
   ]
  },
  {
   "cell_type": "markdown",
   "id": "f489d7d2-ea30-4f14-8fa5-5662e5ebb039",
   "metadata": {},
   "source": [
    "👨‍💻: Make sure we remove `duration` because it constitutes a leakage ; that information is only known after the call is made."
   ]
  },
  {
   "cell_type": "code",
   "execution_count": null,
   "id": "4a3da11b-729e-4f7f-b35a-4f4716678bbf",
   "metadata": {},
   "outputs": [],
   "source": [
    "train_x = train_x.drop(columns='duration')\n",
    "val_x = val_x.drop(columns='duration')\n",
    "test_x = test_x.drop(columns='duration')"
   ]
  },
  {
   "cell_type": "code",
   "execution_count": null,
   "id": "8fa8fef6-a2c3-437e-b9c5-e523f67f9c41",
   "metadata": {},
   "outputs": [],
   "source": [
    "train_x"
   ]
  },
  {
   "cell_type": "code",
   "execution_count": null,
   "id": "916c6b03-65de-463b-a42f-37ec56ac166c",
   "metadata": {},
   "outputs": [],
   "source": [
    "from sklearn.preprocessing import StandardScaler, RobustScaler\n",
    "scaler = StandardScaler()\n",
    "scalerReal = RobustScaler()"
   ]
  },
  {
   "cell_type": "code",
   "execution_count": null,
   "id": "893d1b77-80d1-43fd-996e-7640231bc497",
   "metadata": {},
   "outputs": [],
   "source": [
    "age_scaler = scaler.fit(train_x.age.values.reshape(-1, 1))\n",
    "age_scaler_real = scalerReal.fit(train_x.age.values.reshape(-1,1))"
   ]
  },
  {
   "cell_type": "code",
   "execution_count": null,
   "id": "27335a40-15bd-4149-9eb8-d23f38333a8a",
   "metadata": {},
   "outputs": [],
   "source": [
    "# TODO: Rememeber to comment this out\n",
    "# train_x['has_been_contacted_in_previous'] = (train_x.pdays != 999).astype(int)"
   ]
  },
  {
   "cell_type": "code",
   "execution_count": null,
   "id": "591ad673-e5a0-4eb8-829d-fae920903509",
   "metadata": {},
   "outputs": [],
   "source": [
    "train_x['pdays'] = train_x.pdays.replace({999: -1})"
   ]
  },
  {
   "cell_type": "code",
   "execution_count": null,
   "id": "21867377-b167-48e6-843b-75de0c18f490",
   "metadata": {},
   "outputs": [],
   "source": [
    "train_x.describe()"
   ]
  },
  {
   "cell_type": "markdown",
   "id": "7d8035f7-3707-419e-a1dc-87409cc3da6c",
   "metadata": {},
   "source": [
    "👨‍💻: These variable names are pretty self-explanatory methinks. I also just _had_ to try `camelCase`, it's pretty"
   ]
  },
  {
   "cell_type": "code",
   "execution_count": null,
   "id": "d1ffcdb7-48e7-4fce-aec2-1f3b5d2aa01e",
   "metadata": {},
   "outputs": [],
   "source": [
    "age_scaler = StandardScaler()\n",
    "campaign_scaler = StandardScaler()\n",
    "pdays_scaler = StandardScaler()\n",
    "previous_scaler = StandardScaler()\n",
    "empVarRate_scaler = StandardScaler()\n",
    "consPriceidx_scaler = StandardScaler()\n",
    "consConfIdx_scaler = StandardScaler()\n",
    "euribor3m_scaler = StandardScaler()\n",
    "nrEmployed_scaler = StandardScaler()\n",
    "has_been_contacted_in_previous_scaler = StandardScaler()"
   ]
  },
  {
   "cell_type": "code",
   "execution_count": null,
   "id": "6deaa676-168b-462c-9334-f000001c763e",
   "metadata": {},
   "outputs": [],
   "source": [
    "age_scaler.fit(train_x.age.values.reshape(-1,1))\n",
    "campaign_scaler.fit(train_x.campaign.values.reshape(-1,1))\n",
    "pdays_scaler.fit(train_x.pdays.values.reshape(-1,1))\n",
    "previous_scaler.fit(train_x.previous.values.reshape(-1,1))\n",
    "empVarRate_scaler.fit(train_x['emp.var.rate'].values.reshape(-1,1))\n",
    "consPriceidx_scaler.fit(train_x['cons.price.idx'].values.reshape(-1,1))\n",
    "consConfIdx_scaler.fit(train_x['cons.conf.idx'].values.reshape(-1,1))\n",
    "euribor3m_scaler.fit(train_x.euribor3m.values.reshape(-1,1))\n",
    "nrEmployed_scaler.fit(train_x['nr.employed'].values.reshape(-1,1))\n",
    "# has_been_contacted_in_previous_scaler.fit(train_x.has_been_contacted_in_previous.values.reshape(-1,1))"
   ]
  },
  {
   "cell_type": "markdown",
   "id": "86ebe7e3-26d4-4913-aae8-440c47ef9b55",
   "metadata": {},
   "source": [
    "👨‍💻: ~~All good notebooks start with the imports at the top...~~ If you think about it, importing later in the file is _actually_ an optimization"
   ]
  },
  {
   "cell_type": "markdown",
   "id": "a99c0acc-ca6d-4a81-9ccc-e3f4e9ff1752",
   "metadata": {},
   "source": [
    "👨‍💻: `Pipeline` and `Transformers` are underrated 😍"
   ]
  },
  {
   "cell_type": "code",
   "execution_count": null,
   "id": "0ced9539-877d-45a8-9ab3-e03c7caadb59",
   "metadata": {},
   "outputs": [],
   "source": [
    "from sklearn.pipeline import Pipeline\n",
    "from sklearn.preprocessing import OneHotEncoder"
   ]
  },
  {
   "cell_type": "code",
   "execution_count": null,
   "id": "70c5e429-f25e-4354-a2bf-80f4d554ac63",
   "metadata": {},
   "outputs": [],
   "source": [
    "from sklearn.compose import ColumnTransformer"
   ]
  },
  {
   "cell_type": "code",
   "execution_count": null,
   "id": "6ba276a3-fb2c-4587-8f09-aa6d44df9b3d",
   "metadata": {},
   "outputs": [],
   "source": [
    "# This is added after going on the notebook once:\n",
    "from sklearn.base import BaseEstimator, TransformerMixin\n",
    "class HasBeenCalledBeforeTransformer(BaseEstimator,TransformerMixin):\n",
    "    def fit(self, X=None, y=None):\n",
    "        return self\n",
    "    def transform(self, X, y=None):\n",
    "        X['has_been_called_before'] = (X.pdays != 999).astype(int)\n",
    "        return X"
   ]
  },
  {
   "cell_type": "code",
   "execution_count": null,
   "id": "8509ad78-3315-4361-8112-8dc9d5f87f0a",
   "metadata": {},
   "outputs": [],
   "source": [
    "transformerCategorical = Pipeline([\n",
    "    ('onehot', OneHotEncoder(handle_unknown='error')),\n",
    "])\n",
    "transformerNumerical = Pipeline([\n",
    "    # ('add_has_been_called_before', HasBeenCalledBeforeTransformer()),\n",
    "    ('scale', StandardScaler()),\n",
    "])\n",
    "transformer = ColumnTransformer([\n",
    "    ('num', transformerNumerical, train_x.select_dtypes(exclude='object').columns.values.tolist()),\n",
    "    ('cat',  transformerCategorical, train_x.select_dtypes('object').columns.values.tolist()),\n",
    "])"
   ]
  },
  {
   "cell_type": "code",
   "execution_count": null,
   "id": "e8f9865e-5fe7-4feb-910a-f418092ec1f5",
   "metadata": {},
   "outputs": [],
   "source": [
    "transformer"
   ]
  },
  {
   "cell_type": "markdown",
   "id": "eb769316-bab6-4bf6-8473-bcee6fa88898",
   "metadata": {},
   "source": [
    "# First model for boss"
   ]
  },
  {
   "cell_type": "code",
   "execution_count": null,
   "id": "b302be6c-803f-4459-a142-f69fbbfab9d0",
   "metadata": {},
   "outputs": [],
   "source": [
    "from sklearn.tree import DecisionTreeClassifier"
   ]
  },
  {
   "cell_type": "code",
   "execution_count": null,
   "id": "7470fbc4-8a3e-464d-8790-53ff2634fcd0",
   "metadata": {},
   "outputs": [],
   "source": [
    "tree_clf = DecisionTreeClassifier()"
   ]
  },
  {
   "cell_type": "code",
   "execution_count": null,
   "id": "f4f0793e-7879-4365-b25a-5682132bbacd",
   "metadata": {},
   "outputs": [],
   "source": [
    "transformer.fit(train_x)"
   ]
  },
  {
   "cell_type": "code",
   "execution_count": null,
   "id": "bcf681e0-7c8b-43a1-9301-d57acb319267",
   "metadata": {},
   "outputs": [],
   "source": [
    "# transformer.transform(train_x).toarray()[0]"
   ]
  },
  {
   "cell_type": "code",
   "execution_count": null,
   "id": "dee7a77a-b4db-474e-b580-7fb094f6d24b",
   "metadata": {},
   "outputs": [],
   "source": [
    "tree_clf.fit(transformer.transform(train_x), train_y)"
   ]
  },
  {
   "cell_type": "code",
   "execution_count": null,
   "id": "0176c257-afef-45e3-8ae3-5a5969ae48c0",
   "metadata": {},
   "outputs": [],
   "source": [
    "from sklearn.metrics import RocCurveDisplay, accuracy_score"
   ]
  },
  {
   "cell_type": "code",
   "execution_count": null,
   "id": "087bb748-fcd2-4a9e-91a1-79a9fef83195",
   "metadata": {},
   "outputs": [],
   "source": [
    "train_x.columns"
   ]
  },
  {
   "cell_type": "code",
   "execution_count": null,
   "id": "2aa646d4-8196-43d5-b692-95b22c453826",
   "metadata": {},
   "outputs": [],
   "source": [
    "# train_x.drop(columns='has_been_contacted_in_previous', inplace=True)"
   ]
  },
  {
   "cell_type": "code",
   "execution_count": null,
   "id": "a50f61ef-9bc9-4f33-b7e4-1236e929345a",
   "metadata": {},
   "outputs": [],
   "source": [
    "import numpy as np\n",
    "\n",
    "a=transformer.transform(test_x)[0]"
   ]
  },
  {
   "cell_type": "code",
   "execution_count": null,
   "id": "a6578628-f8de-4f91-ad16-d9563f717107",
   "metadata": {},
   "outputs": [],
   "source": [
    "test_y.values"
   ]
  },
  {
   "cell_type": "code",
   "execution_count": null,
   "id": "d9482669-5e0c-4578-8b83-6b7bab518d70",
   "metadata": {},
   "outputs": [],
   "source": [
    "tree_clf.predict_proba(transformer.transform(test_x))"
   ]
  },
  {
   "cell_type": "markdown",
   "id": "a6619109-909f-4e8b-bd71-f2986c357072",
   "metadata": {},
   "source": [
    "**Metrics**"
   ]
  },
  {
   "cell_type": "code",
   "execution_count": null,
   "id": "3caf00cd-9d81-45f6-9077-3130d3a53f23",
   "metadata": {},
   "outputs": [],
   "source": [
    "accuracy_score(test_y.values, tree_clf.predict(transformer.transform(test_x)))"
   ]
  },
  {
   "cell_type": "markdown",
   "id": "c26cbedc-713d-461a-9b17-e5573833ba4b",
   "metadata": {},
   "source": [
    "👨‍💻: We should probably use AUC rather than accuracy..."
   ]
  },
  {
   "cell_type": "code",
   "execution_count": null,
   "id": "db07379e-2191-49c0-81a6-56eab4aff6bb",
   "metadata": {},
   "outputs": [],
   "source": [
    "RocCurveDisplay.from_predictions(test_y.values,tree_clf.predict_proba(transformer.transform(test_x))[:,1])"
   ]
  },
  {
   "cell_type": "markdown",
   "id": "2ddd2704-6f29-4469-8fc9-a57ad1b60924",
   "metadata": {},
   "source": [
    "👨‍💻: 😭"
   ]
  },
  {
   "cell_type": "code",
   "execution_count": null,
   "id": "789d0be8-bed0-47bf-b6bb-1138de9f6f81",
   "metadata": {},
   "outputs": [],
   "source": [
    "(train_y.values, tree_clf.predict(transformer.transform(train_x)))"
   ]
  },
  {
   "cell_type": "code",
   "execution_count": null,
   "id": "09ddd7ea-480a-414b-858a-537c9fe70aaf",
   "metadata": {},
   "outputs": [],
   "source": [
    "(val_y.values, tree_clf.predict(transformer.transform(val_x)))"
   ]
  },
  {
   "cell_type": "code",
   "execution_count": null,
   "id": "6e6e625b-3335-4115-bb87-d1b3ec63c8df",
   "metadata": {},
   "outputs": [],
   "source": [
    "(test_y.values, tree_clf.predict(transformer.transform(test_x)))"
   ]
  },
  {
   "cell_type": "markdown",
   "id": "29985b8c-6640-4cae-80ac-6b9d43072ba1",
   "metadata": {},
   "source": [
    "<p style=\"font-size: 1.3em; color: red;\">End of section: First Model, in EDA 🤔? STOP HERE AND GO BACK TO INSTRUCTIONS</p>\n",
    "<hr/>"
   ]
  },
  {
   "cell_type": "markdown",
   "id": "2ab05574-7ca6-42e1-8731-0179762c87af",
   "metadata": {},
   "source": [
    "<hr/>\n",
    "<p style=\"font-size: 1.3em; color: red;\">START: Iterative improvements™️</p>"
   ]
  },
  {
   "cell_type": "markdown",
   "id": "a469b12d-dcb7-4575-957c-8c38b6750085",
   "metadata": {},
   "source": [
    "# Iteration 2:"
   ]
  },
  {
   "cell_type": "markdown",
   "id": "1a575bdf-f949-46be-bdf6-f61930f7241a",
   "metadata": {},
   "source": [
    "👨‍💻: The previous model didn't work too well. Let's make a new one"
   ]
  },
  {
   "cell_type": "code",
   "execution_count": null,
   "id": "658431c7-223e-4db7-a5c7-82592291917b",
   "metadata": {},
   "outputs": [],
   "source": [
    "from sklearn.neural_network import MLPClassifier\n",
    "mlp = MLPClassifier()"
   ]
  },
  {
   "cell_type": "code",
   "execution_count": null,
   "id": "fef249c9-a246-47d0-a554-13ababe4e967",
   "metadata": {},
   "outputs": [],
   "source": [
    "mlp.fit(transformer.transform(train_x), train_y)"
   ]
  },
  {
   "cell_type": "code",
   "execution_count": null,
   "id": "189253a0-7b26-4b60-8c81-194e51a003be",
   "metadata": {},
   "outputs": [],
   "source": [
    "(val_y.values, mlp.predict(transformer.transform(val_x)))"
   ]
  },
  {
   "cell_type": "code",
   "execution_count": null,
   "id": "c07b6ba0-468c-4c7a-b71f-4020933e3ff6",
   "metadata": {},
   "outputs": [],
   "source": [
    "RocCurveDisplay.from_predictions(test_y.values,mlp.predict_proba(transformer.transform(test_x))[:,1])"
   ]
  },
  {
   "cell_type": "markdown",
   "id": "9698a9c7-3c4b-4278-b810-21eac93d9ca0",
   "metadata": {},
   "source": [
    "# Iteration 3"
   ]
  },
  {
   "cell_type": "code",
   "execution_count": null,
   "id": "326c9725-de23-4983-a2b0-d15e396e715d",
   "metadata": {},
   "outputs": [],
   "source": [
    "\n",
    "numerical_pipeline = Pipeline([\n",
    "    ('scaler', StandardScaler()),\n",
    "])\n",
    "\n",
    "categorical_pipeline = Pipeline(steps=[\n",
    "    # TODO: raise when there are unknown values\n",
    "    ('one_hot_encoding', OneHotEncoder(handle_unknown='ignore')),\n",
    "])\n",
    "\n",
    "# Alternatively, we could select the columns automatically,\n",
    "# using sklearn.compose.make_column_selector\n",
    "# that would assume we have correctly loaded the data (which\n",
    "# might not be the case)\n",
    "# Note: The columns were copied from the output above\n",
    "#       Don't forget to add it back\n",
    "data_processor = ColumnTransformer([\n",
    "    ('numerical_simple_scaler', numerical_pipeline, ['age', 'campaign', 'pdays', 'previous', 'emp.var.rate', 'cons.price.idx', 'cons.conf.idx', 'euribor3m', 'nr.employed']),\n",
    "    ('categorical_handler', categorical_pipeline, ['job', 'marital', 'education', 'default', 'housing', 'loan', 'contact', 'month', 'day_of_week', 'poutcome'])\n",
    "])"
   ]
  },
  {
   "cell_type": "code",
   "execution_count": null,
   "id": "0522e139-1dc7-429d-a6a9-e7dd3820973d",
   "metadata": {},
   "outputs": [],
   "source": [
    "data_processor.fit(train_x)"
   ]
  },
  {
   "cell_type": "code",
   "execution_count": null,
   "id": "2f03b82c-b531-408c-bbbc-09a2972965fe",
   "metadata": {},
   "outputs": [],
   "source": [
    "new_2 = DecisionTreeClassifier()"
   ]
  },
  {
   "cell_type": "code",
   "execution_count": null,
   "id": "c5a7d5c1-8a55-44a6-a140-9fd8ef545c16",
   "metadata": {},
   "outputs": [],
   "source": [
    "new_2.fit(data_processor.transform(train_x), train_y)"
   ]
  },
  {
   "cell_type": "code",
   "execution_count": null,
   "id": "12fb3fd7-d691-484e-b4d8-cc3ea30ea2b7",
   "metadata": {},
   "outputs": [],
   "source": [
    "(val_y.values, new_2.predict(data_processor.transform(val_x)))"
   ]
  },
  {
   "cell_type": "code",
   "execution_count": null,
   "id": "9ab38c64-0c84-4bc3-a7a9-cd8212bcf3a9",
   "metadata": {},
   "outputs": [],
   "source": [
    "RocCurveDisplay.from_predictions(val_y.values,new_2.predict_proba(data_processor.transform(val_x))[:,1])"
   ]
  },
  {
   "cell_type": "markdown",
   "id": "d0d59838-60d2-4b84-9ba9-36618ae59027",
   "metadata": {},
   "source": [
    "# Iteration 4"
   ]
  },
  {
   "cell_type": "code",
   "execution_count": null,
   "id": "f3814140-3f95-47fb-955f-c12103848b2f",
   "metadata": {},
   "outputs": [],
   "source": [
    "from sklearn.ensemble import RandomForestClassifier"
   ]
  },
  {
   "cell_type": "code",
   "execution_count": null,
   "id": "c0886aa1-64c8-4b61-8daf-073b6f1df3a8",
   "metadata": {},
   "outputs": [],
   "source": [
    "clf_4 = RandomForestClassifier(n_estimators=20)"
   ]
  },
  {
   "cell_type": "code",
   "execution_count": null,
   "id": "bf8e8a43-7dde-4984-a622-aba760291b97",
   "metadata": {},
   "outputs": [],
   "source": [
    "clf_4.fit(transformer.transform(train_x), train_y)"
   ]
  },
  {
   "cell_type": "code",
   "execution_count": null,
   "id": "ffca3d07-6bfe-476f-a9e7-cf11eb0387ad",
   "metadata": {},
   "outputs": [],
   "source": [
    "(val_y.values, clf_4.predict(transformer.transform(val_x)))"
   ]
  },
  {
   "cell_type": "code",
   "execution_count": null,
   "id": "d4543b41-b0fd-4049-a421-59db3b6d1761",
   "metadata": {},
   "outputs": [],
   "source": [
    "RocCurveDisplay.from_predictions(val_y.values,clf_4.predict_proba(transformer.transform(val_x))[:,1])"
   ]
  },
  {
   "cell_type": "markdown",
   "id": "ce531363-7dd7-4d34-a33f-d249d13ed7b1",
   "metadata": {},
   "source": [
    "# Iteration 5"
   ]
  },
  {
   "cell_type": "markdown",
   "id": "30b0190c-ef59-491e-8c7d-e938f4211480",
   "metadata": {},
   "source": [
    "👨‍💻: Copy code from first iteration to try out new idea, after all, we wouldn't want both variables to interact, so it's actually safer to copy-paste."
   ]
  },
  {
   "cell_type": "markdown",
   "id": "7803f7ea-ee7a-4781-8137-2dd82cc48c53",
   "metadata": {},
   "source": [
    "👨‍💻: For this experiment, we'll cluster the users and then feed them through boosted tree."
   ]
  },
  {
   "cell_type": "code",
   "execution_count": null,
   "id": "bee35e69-9936-4a5d-8362-7ccd569b9aae",
   "metadata": {},
   "outputs": [],
   "source": [
    "from sklearn.cluster import KMeans, Birch, MiniBatchKMeans"
   ]
  },
  {
   "cell_type": "code",
   "execution_count": null,
   "id": "b9d6544f-771e-4304-880e-9ccae49e74a8",
   "metadata": {},
   "outputs": [],
   "source": [
    "train_x.head()"
   ]
  },
  {
   "cell_type": "code",
   "execution_count": null,
   "id": "ab1835a8-b040-4193-9e1e-e31fc1c779d5",
   "metadata": {},
   "outputs": [],
   "source": [
    "DBSCAN()"
   ]
  },
  {
   "cell_type": "markdown",
   "id": "5b5ea0a8-a3e0-4f08-add4-ed255d806bab",
   "metadata": {},
   "source": [
    "👨‍💻: 😶"
   ]
  },
  {
   "cell_type": "code",
   "execution_count": null,
   "id": "c281cc1f-4296-40d5-a57c-ad366cfe31fb",
   "metadata": {},
   "outputs": [],
   "source": [
    "display(train_x.columns)\n",
    "display(train_x.select_dtypes('object').columns)"
   ]
  },
  {
   "cell_type": "code",
   "execution_count": null,
   "id": "824881ae-a97b-43d9-a562-baad34e33123",
   "metadata": {},
   "outputs": [],
   "source": [
    "train_x.dtypes"
   ]
  },
  {
   "cell_type": "code",
   "execution_count": null,
   "id": "b8a53405-a71c-4362-806e-385057bb7a58",
   "metadata": {},
   "outputs": [],
   "source": [
    "person_info_cols_cat = ['job','marital','education','default', 'housing','loan', 'contact']\n",
    "person_info_cols_num = ['age']"
   ]
  },
  {
   "cell_type": "code",
   "execution_count": null,
   "id": "9b00e026-f5a9-41eb-8f4d-c9b2dba0f03d",
   "metadata": {},
   "outputs": [],
   "source": [
    "kmeans_transformer = ColumnTransformer([\n",
    "    ('scaleAge', StandardScaler(), person_info_cols_num),\n",
    "    ('onehot', OneHotEncoder(sparse_output=True), person_info_cols_cat),\n",
    "], remainder='drop')\n",
    "kmeans_pipeline = Pipeline([\n",
    "    ('c', kmeans_transformer),\n",
    "    # ('cluster', Birch()),\n",
    "    ('cluster', KMeans(n_clusters=12)),\n",
    "])"
   ]
  },
  {
   "cell_type": "code",
   "execution_count": null,
   "id": "3866fa24-372d-4345-b1e4-2e9d7e90a3ae",
   "metadata": {},
   "outputs": [],
   "source": [
    "kmeans_pipeline.fit(train_x)"
   ]
  },
  {
   "cell_type": "code",
   "execution_count": null,
   "id": "548394ed-3dfa-4399-94ef-17fc73f58f62",
   "metadata": {},
   "outputs": [],
   "source": [
    "# kmeans_pipeline.transform(train_x).shape"
   ]
  },
  {
   "cell_type": "code",
   "execution_count": null,
   "id": "fd46f4c1-65c0-45c0-9761-a5aa8fa4d59e",
   "metadata": {},
   "outputs": [],
   "source": [
    "train_x.columns.drop(person_info_cols_cat + person_info_cols_num)"
   ]
  },
  {
   "cell_type": "code",
   "execution_count": null,
   "id": "b9afe532-eaf6-4ed1-872e-972e5430a91c",
   "metadata": {},
   "outputs": [],
   "source": [
    "num_cols_wo_customer = ['campaign','pdays','previous','emp.var.rate','cons.price.idx','cons.conf.idx','euribor3m','nr.employed']\n",
    "cat_cols_wo_customer = ['month','day_of_week', 'poutcome']"
   ]
  },
  {
   "cell_type": "code",
   "execution_count": null,
   "id": "d3df592d-29f6-407a-92c3-a9df4f655da2",
   "metadata": {},
   "outputs": [],
   "source": [
    "from sklearn.linear_model import LogisticRegression\n",
    "from sklearn.ensemble import GradientBoostingClassifier, AdaBoostClassifier,VotingClassifier\n",
    "# classifier5 = VotingClassifier(estimators=[('a', DecisionTreeClassifier()), ('b', GradientBoostingClassifier())])\n",
    "classifier5 = GradientBoostingClassifier()"
   ]
  },
  {
   "cell_type": "code",
   "execution_count": null,
   "id": "17aac8aa-2bba-4a16-ab11-0b9f4e28828b",
   "metadata": {},
   "outputs": [],
   "source": [
    "transformerCategorical5 = Pipeline([\n",
    "    ('onehot', OneHotEncoder(handle_unknown='error')),\n",
    "])\n",
    "transformerNumerical5 = Pipeline([\n",
    "    # ('add_has_been_called_before', HasBeenCalledBeforeTransformer()),\n",
    "    ('scale', StandardScaler()),\n",
    "])\n",
    "transformer5 = ColumnTransformer([\n",
    "    ('cluster_customer', kmeans_pipeline, person_info_cols_cat + person_info_cols_num),\n",
    "    ('num', transformerNumerical, num_cols_wo_customer),\n",
    "    ('cat',  transformerCategorical, cat_cols_wo_customer),\n",
    "])\n",
    "\n",
    "pipeline_5 = Pipeline([\n",
    "    ('data', transformer5),\n",
    "    ('clf', classifier5),\n",
    "])"
   ]
  },
  {
   "cell_type": "code",
   "execution_count": null,
   "id": "4641c57a-3755-485d-8d67-c767d6903642",
   "metadata": {},
   "outputs": [],
   "source": [
    "pipeline_5.fit(train_x, train_y,)"
   ]
  },
  {
   "cell_type": "code",
   "execution_count": null,
   "id": "45c5f603-ca52-4c81-9294-bccc99a9ee76",
   "metadata": {},
   "outputs": [],
   "source": [
    "(val_y.values, pipeline_5.predict(val_x))"
   ]
  },
  {
   "cell_type": "code",
   "execution_count": null,
   "id": "425a8dc9-6fb2-44d0-b3ac-50b7f9a06cb5",
   "metadata": {},
   "outputs": [],
   "source": [
    "RocCurveDisplay.from_predictions(val_y.values,pipeline_5.decision_function(val_x))"
   ]
  },
  {
   "cell_type": "markdown",
   "id": "99b733d3-c4e3-443f-9012-76a1c1070257",
   "metadata": {},
   "source": [
    "👨‍💻: This looks promising!"
   ]
  },
  {
   "cell_type": "markdown",
   "id": "f2005c2b-56dc-4fc5-b910-65d874c19f49",
   "metadata": {},
   "source": [
    "<p style=\"font-size: 1.3em; color: red;\">End of section: Iterative improvements™️ STOP HERE AND GO BACK TO INSTRUCTIONS</p>\n",
    "<hr/>"
   ]
  },
  {
   "cell_type": "markdown",
   "id": "f55ca6eb-589b-4a42-9c7a-c3cbeb917a58",
   "metadata": {},
   "source": [
    "# What now\n",
    "\n",
    "We feel OK with the above result. We decide to save the dataframe transformed for this model."
   ]
  },
  {
   "cell_type": "code",
   "execution_count": null,
   "id": "9ef1cab7-d678-4cef-b9ec-5fc1b7105a82",
   "metadata": {},
   "outputs": [],
   "source": [
    "pipeline_5.named_steps.data.transform(train_x).shape"
   ]
  }
 ],
 "metadata": {
  "kernelspec": {
   "display_name": "Python 3 (ipykernel)",
   "language": "python",
   "name": "python3"
  },
  "language_info": {
   "codemirror_mode": {
    "name": "ipython",
    "version": 3
   },
   "file_extension": ".py",
   "mimetype": "text/x-python",
   "name": "python",
   "nbconvert_exporter": "python",
   "pygments_lexer": "ipython3",
   "version": "3.10.11"
  }
 },
 "nbformat": 4,
 "nbformat_minor": 5
}
