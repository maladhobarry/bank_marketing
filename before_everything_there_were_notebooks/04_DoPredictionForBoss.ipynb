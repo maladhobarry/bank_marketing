{
 "cells": [
  {
   "cell_type": "markdown",
   "id": "48ffd1cd-9374-48fc-8034-5c78d69f3344",
   "metadata": {},
   "source": [
    "<hr/>\n",
    "<p style=\"font-size: 1.3em; color: red;\">START: Inference</p>"
   ]
  },
  {
   "cell_type": "markdown",
   "id": "233c407e-49b9-4707-9a12-568bfc315f71",
   "metadata": {},
   "source": [
    "# Inference and scoring"
   ]
  },
  {
   "cell_type": "markdown",
   "id": "d6e62ff6-ec51-4fad-8522-6b47f18e06b3",
   "metadata": {},
   "source": [
    "👨‍💻: This is our prediction and scoring notebook. Simply load your model and we'll do the rest."
   ]
  },
  {
   "cell_type": "code",
   "execution_count": null,
   "id": "4594c44f-e0a6-4fa0-8756-f302c59b5d45",
   "metadata": {
    "scrolled": true
   },
   "outputs": [],
   "source": [
    "! pip freeze -l"
   ]
  },
  {
   "cell_type": "markdown",
   "id": "986d30fc-66c3-410d-b994-9ba23b7691fe",
   "metadata": {},
   "source": [
    "👨‍💻: I should probably save the above requirements at some point..."
   ]
  },
  {
   "cell_type": "code",
   "execution_count": null,
   "id": "2f9bed61-a083-4b71-baa0-b7977b6017cf",
   "metadata": {},
   "outputs": [],
   "source": [
    "import pandas as pd"
   ]
  },
  {
   "cell_type": "code",
   "execution_count": null,
   "id": "7884992f-a1e2-4682-aed7-5947a2802caa",
   "metadata": {},
   "outputs": [],
   "source": [
    "df_to_predict = pd.read_csv('data/csv/bank_marketing_2010-08-01_to_2010-09-30.csv', sep=';')"
   ]
  },
  {
   "cell_type": "code",
   "execution_count": null,
   "id": "8aa379c3-0f2d-4249-9fe3-44635496b8fd",
   "metadata": {},
   "outputs": [],
   "source": [
    "# Magistral mistake: Let's pretend we don't have y\n",
    "df_to_predict = df_to_predict.drop(columns=['y','duration'])"
   ]
  },
  {
   "cell_type": "markdown",
   "id": "847e5a07-8682-47da-a6a5-88de6899594d",
   "metadata": {},
   "source": [
    "Let's load our models"
   ]
  },
  {
   "cell_type": "code",
   "execution_count": null,
   "id": "000c4966-2d8c-438a-a0c6-5fc1771a5e84",
   "metadata": {},
   "outputs": [],
   "source": [
    "import xgboost as xgb\n",
    "import pickle"
   ]
  },
  {
   "cell_type": "code",
   "execution_count": null,
   "id": "ff0224e0-498f-4c4a-9a49-3a40ad2315a5",
   "metadata": {},
   "outputs": [],
   "source": [
    "clf = xgb.Booster(model_file='best_xgb_clf.model')"
   ]
  },
  {
   "cell_type": "code",
   "execution_count": null,
   "id": "6fe7e579-b5c9-46e1-80ff-b68b9654e139",
   "metadata": {},
   "outputs": [],
   "source": [
    "with open('best_xgb_data_processing.pkl','rb') as f:\n",
    "    processing = pickle.load(f)"
   ]
  },
  {
   "cell_type": "code",
   "execution_count": null,
   "id": "7f401662-0482-44dd-a10e-5e2b5538e984",
   "metadata": {},
   "outputs": [],
   "source": [
    "out = clf.predict(xgb.DMatrix(processing.transform(df_to_predict)))"
   ]
  },
  {
   "cell_type": "markdown",
   "id": "473fafec-010d-484c-be47-071f01e19e03",
   "metadata": {},
   "source": [
    "<p style=\"font-size: 1.3em; color: red;\">End of section: Inference STOP HERE AND GO BACK TO INSTRUCTIONS</p>\n",
    "<hr/>"
   ]
  },
  {
   "cell_type": "markdown",
   "id": "ec21ecc7-15e4-4013-89ae-e6145ca3cd1b",
   "metadata": {},
   "source": [
    "<hr/>\n",
    "<p style=\"font-size: 1.3em; color: red;\">START: Scoring</p>"
   ]
  },
  {
   "cell_type": "markdown",
   "id": "73ad42a2-49af-477d-bf59-380c192cca04",
   "metadata": {},
   "source": [
    "👨‍💻: This is our scoring!"
   ]
  },
  {
   "cell_type": "code",
   "execution_count": null,
   "id": "40438a02-a7f8-49e1-bc8c-a54ca3936e23",
   "metadata": {},
   "outputs": [],
   "source": [
    "# TODO: Complete me"
   ]
  },
  {
   "cell_type": "markdown",
   "id": "44f84fac-7085-4183-b023-9be137a0b9b1",
   "metadata": {},
   "source": [
    "<p style=\"font-size: 1.3em; color: red;\">End of section: Scoring STOP HERE AND GO BACK TO INSTRUCTIONS</p>\n",
    "<hr/>"
   ]
  }
 ],
 "metadata": {
  "kernelspec": {
   "display_name": "Python 3 (ipykernel)",
   "language": "python",
   "name": "python3"
  },
  "language_info": {
   "codemirror_mode": {
    "name": "ipython",
    "version": 3
   },
   "file_extension": ".py",
   "mimetype": "text/x-python",
   "name": "python",
   "nbconvert_exporter": "python",
   "pygments_lexer": "ipython3",
   "version": "3.10.11"
  }
 },
 "nbformat": 4,
 "nbformat_minor": 5
}
