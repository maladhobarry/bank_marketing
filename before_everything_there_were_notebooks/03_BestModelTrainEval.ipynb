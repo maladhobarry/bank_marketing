{
 "cells": [
  {
   "cell_type": "markdown",
   "id": "65eda4df-8398-414a-978b-c09ae6fc3e04",
   "metadata": {},
   "source": [
    "# What this notebook is"
   ]
  },
  {
   "cell_type": "markdown",
   "id": "bf424a7f-9d72-4310-afb4-f8d604a56f6b",
   "metadata": {},
   "source": [
    "👨‍💻: This is our best attempt so far in the day to get a model shipped to prod. It corresponds to the Iteration 5 of our \"EDA\" notebook."
   ]
  },
  {
   "cell_type": "markdown",
   "id": "6f00b9f7-1827-4b37-a0a8-8a8443856c3d",
   "metadata": {},
   "source": [
    "<hr/>\n",
    "<p style=\"font-size: 1.3em; color: red;\">START: Dependencies</p>"
   ]
  },
  {
   "cell_type": "markdown",
   "id": "db88d3f4-4a07-49a1-899c-f0bfa8148316",
   "metadata": {},
   "source": [
    "<p style=\"font-size: 1.3em; color: red;\">End of section: Dependencies. STOP HERE AND GO BACK TO INSTRUCTIONS</p>\n",
    "<hr/>"
   ]
  },
  {
   "cell_type": "markdown",
   "id": "a9f01bbe-d690-4278-94a2-17bb2255e9f9",
   "metadata": {},
   "source": [
    "<hr/>\n",
    "<p style=\"font-size: 1.3em; color: red;\">START: Training a Boosting Classifier with clustering (iteration 5)</p>"
   ]
  },
  {
   "cell_type": "code",
   "execution_count": null,
   "id": "f57890da-a207-43cb-9b0d-d468d20624f0",
   "metadata": {},
   "outputs": [],
   "source": [
    "from sklearn.cluster import KMeans, Birch, MiniBatchKMeans"
   ]
  },
  {
   "cell_type": "code",
   "execution_count": null,
   "id": "8d72dc0c-6d4d-49dd-96d8-efefb93484e5",
   "metadata": {},
   "outputs": [],
   "source": [
    "import pandas as pd\n",
    "import numpy as np\n",
    "import matplotlib as plt\n",
    "import seaborn as sns\n",
    "from sklearn.model_selection import train_test_split"
   ]
  },
  {
   "cell_type": "markdown",
   "id": "7ea1dd08-0d5f-40bd-9806-b1d5bd272dc1",
   "metadata": {},
   "source": [
    "👨‍💻: Fully specified path, TODO: Check where"
   ]
  },
  {
   "cell_type": "code",
   "execution_count": null,
   "id": "c0b417a2-c35a-40f0-9dc9-744816e2c5e6",
   "metadata": {},
   "outputs": [],
   "source": [
    "df = pd.read_csv('/home/emilio/Repos/work/ivado/ml-powered-bank-marketing-solution/before_everything_there_were_notebooks/data/csv/bank_marketing_2008-05-01_to_2010-07-31.csv', sep=';')\n",
    "\n",
    "# This is necessary because we had to rename the columns at some point...\n",
    "df = df.rename(columns={\"comm_type\": \"contact\",\n",
    "\"comm_month\": \"month\",\n",
    "\"comm_day\": \"day_of_week\",\n",
    "\"comm_duration\": \"duration\",\n",
    "\"curr_n_contact\": \"campaign\",\n",
    "\"days_since_last_campaign\": \"pdays\",\n",
    "\"last_n_contact\": \"previous\",\n",
    "\"last_outcome\": \"poutcome\",\n",
    "\"curr_outcome\": \"y\"})"
   ]
  },
  {
   "cell_type": "code",
   "execution_count": null,
   "id": "63115c8c-8f23-4e08-a767-32fac6397a18",
   "metadata": {},
   "outputs": [],
   "source": [
    "y = df.y.replace({'yes':1, 'no':0 })"
   ]
  },
  {
   "cell_type": "code",
   "execution_count": null,
   "id": "4914999b-7555-42ea-9336-b3ddad52db40",
   "metadata": {},
   "outputs": [],
   "source": [
    "train_x, test_x, train_y, test_y = train_test_split(df.drop(columns='y'), y, train_size=0.8)\n",
    "train_x, val_x, train_y, val_y = train_test_split(train_x, train_y, train_size=0.8)"
   ]
  },
  {
   "cell_type": "code",
   "execution_count": null,
   "id": "688d7751-bc07-4649-9e83-ff67b3b7cd09",
   "metadata": {},
   "outputs": [],
   "source": [
    "train_x = train_x.drop(columns='duration')\n",
    "val_x = val_x.drop(columns='duration')\n",
    "test_x = test_x.drop(columns='duration')"
   ]
  },
  {
   "cell_type": "markdown",
   "id": "a828141d-fc51-4fa2-b564-14ef030b64e9",
   "metadata": {},
   "source": [
    "# Training"
   ]
  },
  {
   "cell_type": "code",
   "execution_count": null,
   "id": "a4ff0cf8-fb83-4327-9ebf-d435806e962e",
   "metadata": {},
   "outputs": [],
   "source": [
    "from sklearn.pipeline import Pipeline\n",
    "from sklearn.preprocessing import OneHotEncoder, StandardScaler\n",
    "from sklearn.compose import ColumnTransformer\n",
    "from sklearn.metrics import RocCurveDisplay, accuracy_score\n",
    "\n",
    "from sklearn.linear_model import LogisticRegression\n",
    "from sklearn.ensemble import GradientBoostingClassifier, AdaBoostClassifier,VotingClassifier\n",
    "# classifier5 = VotingClassifier(estimators=[('a', DecisionTreeClassifier()), ('b', GradientBoostingClassifier())])\n",
    "classifier5 = GradientBoostingClassifier()\n",
    "\n",
    "# This is added after going on the notebook once:\n",
    "from sklearn.base import BaseEstimator, TransformerMixin\n",
    "class HasBeenCalledBeforeTransformer(BaseEstimator,TransformerMixin):\n",
    "    def fit(self, X=None, y=None):\n",
    "        return self\n",
    "    def transform(self, X, y=None):\n",
    "        X['has_been_called_before'] = (X.pdays != 999).astype(int)\n",
    "        return X"
   ]
  },
  {
   "cell_type": "code",
   "execution_count": null,
   "id": "fdc02b83-9367-4f8d-b254-e2b1e8e315eb",
   "metadata": {},
   "outputs": [],
   "source": [
    "from sklearn.cluster import KMeans, Birch, MiniBatchKMeans"
   ]
  },
  {
   "cell_type": "code",
   "execution_count": null,
   "id": "05780ead-f09b-4401-9713-f6009ac0b767",
   "metadata": {},
   "outputs": [],
   "source": [
    "person_info_cols_cat = ['job','marital','education','default', 'housing','loan', 'contact']\n",
    "person_info_cols_num = ['age']"
   ]
  },
  {
   "cell_type": "code",
   "execution_count": null,
   "id": "b6315e3b-4519-4fd7-87c6-2df3b64cbba3",
   "metadata": {},
   "outputs": [],
   "source": [
    "kmeans_transformer = ColumnTransformer([\n",
    "    ('scaleAge', StandardScaler(), person_info_cols_num),\n",
    "    ('onehot', OneHotEncoder(sparse_output=True), person_info_cols_cat),\n",
    "], remainder='drop')\n",
    "kmeans_pipeline = Pipeline([\n",
    "    ('c', kmeans_transformer),\n",
    "    # ('cluster', Birch()),\n",
    "    ('cluster', KMeans(n_clusters=12)),\n",
    "])"
   ]
  },
  {
   "cell_type": "code",
   "execution_count": null,
   "id": "60a636c2-9434-4b86-a7d6-7cf8168974fb",
   "metadata": {},
   "outputs": [],
   "source": [
    "num_cols_wo_customer = ['campaign','pdays','previous','emp.var.rate','cons.price.idx','cons.conf.idx','euribor3m','nr.employed']\n",
    "cat_cols_wo_customer = ['month','day_of_week', 'poutcome']"
   ]
  },
  {
   "cell_type": "markdown",
   "id": "67786def-04bf-4085-a612-5274ec264b1b",
   "metadata": {},
   "source": [
    "**NOTE THIS IS COPY PASTED FROM THE EDA, AND THERE IS A SUBTLE BUG: WE ARE USING ANOTHER TRANSFORMER (BUT SINCE WE ARE IN A NOTEBOOK THE INSTANCE EXISTED SO THAT MEANS OUR PREVIOUS EXPERIMENTS MIGHT BE WRONG.**"
   ]
  },
  {
   "cell_type": "code",
   "execution_count": null,
   "id": "290dab2e-4d49-4a9f-b393-ed73c6d574e9",
   "metadata": {},
   "outputs": [],
   "source": [
    "transformerCategorical5 = Pipeline([\n",
    "    ('onehot', OneHotEncoder(handle_unknown='error')),\n",
    "])\n",
    "transformerNumerical5 = Pipeline([\n",
    "    # ('add_has_been_called_before', HasBeenCalledBeforeTransformer()),\n",
    "    ('scale', StandardScaler()),\n",
    "])\n",
    "transformer5 = ColumnTransformer([\n",
    "    ('cluster_customer', kmeans_pipeline, person_info_cols_cat + person_info_cols_num),\n",
    "    ('num', transformerNumerical5, num_cols_wo_customer),\n",
    "    ('cat',  transformerCategorical5, cat_cols_wo_customer),\n",
    "])\n",
    "\n",
    "pipeline_5 = Pipeline([\n",
    "    ('data', transformer5),\n",
    "    ('clf', classifier5),\n",
    "])"
   ]
  },
  {
   "cell_type": "markdown",
   "id": "df1a04dd-0385-4b26-8502-dd538a23767f",
   "metadata": {},
   "source": [
    "<p style=\"font-size: 1.3em; color: red;\">End of section: Training a Boosting Classifier with clustering (iteration 5) STOP HERE AND GO BACK TO INSTRUCTIONS</p>\n",
    "<hr/>"
   ]
  },
  {
   "cell_type": "markdown",
   "id": "57dc0982-d8b0-4ae0-95b3-6fa986db8fca",
   "metadata": {},
   "source": [
    "<hr/>\n",
    "<p style=\"font-size: 1.3em; color: red;\">START: Continuing our iteration 5 after the bug is fixed</p>"
   ]
  },
  {
   "cell_type": "code",
   "execution_count": null,
   "id": "d0515bb2-c147-4426-a3b2-1ce570677a15",
   "metadata": {},
   "outputs": [],
   "source": [
    "%%time\n",
    "pipeline_5.fit(train_x, train_y)"
   ]
  },
  {
   "cell_type": "code",
   "execution_count": null,
   "id": "d717e741-0b65-413d-b8f8-f7a081b1838d",
   "metadata": {},
   "outputs": [],
   "source": [
    "accuracy_score(val_y.values, pipeline_5.predict(val_x))"
   ]
  },
  {
   "cell_type": "code",
   "execution_count": null,
   "id": "de6e08a6-87ca-40f0-9c71-2151324dd913",
   "metadata": {},
   "outputs": [],
   "source": [
    "RocCurveDisplay.from_predictions(test_y.values,pipeline_5.decision_function(test_x))"
   ]
  },
  {
   "cell_type": "markdown",
   "id": "435c3d01-a5ff-43e5-839d-7667c423c36e",
   "metadata": {},
   "source": [
    "👨‍💻: Those are pretty good numbers! We are more or less the same thing as our iteration 5. Although is the AUC the same? Shouldn't it be exactly the same? "
   ]
  },
  {
   "cell_type": "markdown",
   "id": "11713f60-5d66-42c1-868c-288192d0e8d1",
   "metadata": {},
   "source": [
    "👨‍💻: Oh well, to do later... For now, let's make sure we have a saved model"
   ]
  },
  {
   "cell_type": "code",
   "execution_count": null,
   "id": "547401dd-81f3-4ea5-b8d1-978132985b7e",
   "metadata": {},
   "outputs": [],
   "source": [
    "# Let's save our model\n",
    "import pickle\n",
    "with open('best_model5.pkl', 'wb') as f:\n",
    "    pickle.dump(pipeline_5, f)"
   ]
  },
  {
   "cell_type": "markdown",
   "id": "2c9329fd-8347-49f9-b76d-0f5ac29bc702",
   "metadata": {},
   "source": [
    "<p style=\"font-size: 1.3em; color: red;\">End of section: Continuing our iteration 5 after the bug is fixed. STOP HERE AND GO BACK TO INSTRUCTIONS</p>\n",
    "<hr/>"
   ]
  },
  {
   "cell_type": "markdown",
   "id": "be348efa-5ec3-4cb4-a79d-f8912ff5ac71",
   "metadata": {},
   "source": [
    "<hr/>\n",
    "<p style=\"font-size: 1.3em; color: red;\">START: Attempting Cross Validation and something else?</p>"
   ]
  },
  {
   "cell_type": "markdown",
   "id": "1fbba513-9a51-42d7-8339-301f226780a3",
   "metadata": {},
   "source": [
    "## Trying to do some cross validation to have a better model?"
   ]
  },
  {
   "cell_type": "code",
   "execution_count": null,
   "id": "55f80bd7-8beb-4828-bf6a-ceb12d7c3ea1",
   "metadata": {},
   "outputs": [],
   "source": [
    "from sklearn.model_selection import StratifiedKFold, KFold"
   ]
  },
  {
   "cell_type": "code",
   "execution_count": null,
   "id": "f1f58f74-3e65-4b5b-be32-41a55127d3d4",
   "metadata": {},
   "outputs": [],
   "source": [
    "pd.concat([train_x, val_x])"
   ]
  },
  {
   "cell_type": "code",
   "execution_count": null,
   "id": "a6717ada-83aa-46ea-8999-15ae8c82e598",
   "metadata": {},
   "outputs": [],
   "source": [
    "skf = StratifiedKFold(n_splits=3)\n",
    "cv_x, cv_y = pd.concat([train_x, val_x]), pd.concat([train_y, val_y])\n",
    "# for train_ix, test_ix in skf.split(cv_x, cv_y):\n",
    "#     display(cv_x.iloc[train_ix])"
   ]
  },
  {
   "cell_type": "code",
   "execution_count": null,
   "id": "a45e78e9-acf8-4dd3-842b-db5cdf50de5d",
   "metadata": {},
   "outputs": [],
   "source": [
    "kmeans_transformerCV = ColumnTransformer([\n",
    "    ('scaleAge', StandardScaler(), person_info_cols_num),\n",
    "    ('onehot', OneHotEncoder(handle_unknown='ignore',sparse_output=True), person_info_cols_cat),\n",
    "], remainder='drop')\n",
    "kmeans_pipelineCV = Pipeline([\n",
    "    ('c', kmeans_transformerCV),\n",
    "    # ('cluster', Birch()),\n",
    "    ('cluster', KMeans(n_clusters=12)),\n",
    "])\n",
    "classifierCV = GradientBoostingClassifier()\n",
    "\n",
    "transformerCategoricalCV = Pipeline([\n",
    "    ('onehot', OneHotEncoder(handle_unknown='error')),\n",
    "])\n",
    "transformerNumericalCV = Pipeline([\n",
    "    # ('add_has_been_called_before', HasBeenCalledBeforeTransformer()),\n",
    "    ('scale', StandardScaler()),\n",
    "])\n",
    "transformerCV = ColumnTransformer([\n",
    "    ('cluster_customer', kmeans_pipelineCV, person_info_cols_cat + person_info_cols_num),\n",
    "    ('num', transformerNumericalCV, num_cols_wo_customer),\n",
    "    ('cat',  transformerCategoricalCV, cat_cols_wo_customer),\n",
    "])\n",
    "\n",
    "pipeline_CV = Pipeline([\n",
    "    ('data', transformerCV),\n",
    "    ('clf', classifierCV),\n",
    "])"
   ]
  },
  {
   "cell_type": "code",
   "execution_count": null,
   "id": "a8788028-49fb-4523-8bf7-94c1e999c9b0",
   "metadata": {},
   "outputs": [],
   "source": [
    "np.positive(np.geomspace(2, 200, num=9, endpoint=False, dtype=np.int8))"
   ]
  },
  {
   "cell_type": "markdown",
   "id": "d8024a1c-949b-42a5-9dbd-6598701f0709",
   "metadata": {},
   "source": [
    "👨‍💻: This package seems pretty cool, I've seen Intel give a good talk about it, it's about time we try it."
   ]
  },
  {
   "cell_type": "code",
   "execution_count": null,
   "id": "492b0c16-7a12-4649-966a-c45177083423",
   "metadata": {
    "scrolled": true
   },
   "outputs": [],
   "source": [
    "! pip install scikit-learn-intelex"
   ]
  },
  {
   "cell_type": "code",
   "execution_count": null,
   "id": "2b6563a2-34b1-4f40-b1d1-1da45160de7c",
   "metadata": {},
   "outputs": [],
   "source": [
    "from sklearnex import patch_sklearn\n",
    "patch_sklearn()"
   ]
  },
  {
   "cell_type": "markdown",
   "id": "e2b3b8b1-e150-4b67-b4ac-ba9c027cfe00",
   "metadata": {},
   "source": [
    "🧑‍🔬: These are highly scientific values "
   ]
  },
  {
   "cell_type": "code",
   "execution_count": null,
   "id": "08afaa64-a20f-4cb5-8747-9bc044d6b161",
   "metadata": {},
   "outputs": [],
   "source": [
    "from sklearn.model_selection import RandomizedSearchCV\n",
    "\n",
    "parameter_grid = {\n",
    "    'clf__max_depth': (2, 3, 4, 5),\n",
    "    'clf__n_estimators': np.positive(np.geomspace(2, 200, num=9, endpoint=False, dtype=np.int8)),\n",
    "    'clf__criterion': ('friedman_mse','squared_error'),\n",
    "    'data__cluster_customer__cluster__n_clusters': (5,10,15,20,30)\n",
    "}\n",
    "\n",
    "random_search = RandomizedSearchCV(\n",
    "    estimator=pipeline_CV,\n",
    "    param_distributions=parameter_grid,\n",
    "    n_iter=10,\n",
    "    random_state=0,\n",
    "    n_jobs=11,\n",
    "    verbose=1,\n",
    ")"
   ]
  },
  {
   "cell_type": "code",
   "execution_count": null,
   "id": "eefc8eb0-dbca-4f91-a4e0-ac5f3fecabcc",
   "metadata": {
    "scrolled": true
   },
   "outputs": [],
   "source": [
    "%%time\n",
    "random_search.fit(cv_x, cv_y)"
   ]
  },
  {
   "cell_type": "markdown",
   "id": "0f067e37-5617-4fdb-8421-480ce275ecee",
   "metadata": {},
   "source": [
    "👨‍💻: That took a long time, although my company laptop is a 🥔"
   ]
  },
  {
   "cell_type": "code",
   "execution_count": null,
   "id": "7c4e4d64-7eae-431d-a4ea-0ecfc55c3e16",
   "metadata": {},
   "outputs": [],
   "source": [
    "random_search.best_estimator_"
   ]
  },
  {
   "cell_type": "code",
   "execution_count": null,
   "id": "abf5e56f-6ee9-40a2-8ce0-2d4d22b4a849",
   "metadata": {},
   "outputs": [],
   "source": [
    "# Note that we need to use test since we saw val\n",
    "display(accuracy_score(test_y.values, pipeline_5.predict(test_x)))\n",
    "display(RocCurveDisplay.from_predictions(test_y.values,pipeline_5.decision_function(test_x)))"
   ]
  },
  {
   "cell_type": "code",
   "execution_count": null,
   "id": "7d14ad81-e7df-4463-853b-d4cf9a35cf1b",
   "metadata": {},
   "outputs": [],
   "source": [
    "# Note that we need to use test since we saw val\n",
    "display(accuracy_score(test_y.values, random_search.best_estimator_.predict(test_x)))\n",
    "display(RocCurveDisplay.from_predictions(test_y.values,random_search.best_estimator_.decision_function(test_x)))"
   ]
  },
  {
   "cell_type": "code",
   "execution_count": null,
   "id": "8e931eee-e418-4af1-9e61-8c88bb590f12",
   "metadata": {
    "scrolled": true
   },
   "outputs": [],
   "source": [
    "pipeline_CV.get_params()"
   ]
  },
  {
   "cell_type": "markdown",
   "id": "45521fe0-65bf-4e4d-a66f-837c042e999c",
   "metadata": {},
   "source": [
    "👨‍💻: Man these `params` name are going to kill me, they're soooooooo long"
   ]
  },
  {
   "cell_type": "markdown",
   "id": "a8c907e9-2351-47fb-8bbe-d0d1efa4c7f0",
   "metadata": {},
   "source": [
    "<p style=\"font-size: 1.3em; color: red;\">End of section: Dependencies. STOP HERE AND GO BACK TO INSTRUCTIONS</p>\n",
    "<hr/>"
   ]
  },
  {
   "cell_type": "markdown",
   "id": "0b92c6ba-3d8f-4f00-a90a-d0d9e4ca74e4",
   "metadata": {},
   "source": [
    "👨‍💻: At least the performance is _pretty nice_, I'm happy."
   ]
  },
  {
   "cell_type": "markdown",
   "id": "df903f2d-1d82-4658-8801-50a546cfa09b",
   "metadata": {},
   "source": [
    "<hr/>\n",
    "<p style=\"font-size: 1.3em; color: red;\">START: XGBoost has entered the chat</p>"
   ]
  },
  {
   "cell_type": "markdown",
   "id": "7bcf02b1-56f7-4ccf-ae83-3be44fea9b88",
   "metadata": {},
   "source": [
    "# Big boy league"
   ]
  },
  {
   "cell_type": "markdown",
   "id": "74bdbac3-358a-4b15-a55e-beabd15a1db3",
   "metadata": {},
   "source": [
    "👨‍💻: The scikit learn implementation was cool and all, but it was starting to become tedious to manipulate all objects. Let's see if we prefer `XGBoost`"
   ]
  },
  {
   "cell_type": "markdown",
   "id": "327c0e16-3392-48a5-b36f-23ab9b2369bc",
   "metadata": {},
   "source": [
    "## XGBoost"
   ]
  },
  {
   "cell_type": "code",
   "execution_count": null,
   "id": "60542eaa-a3ab-414e-8c28-d48bb0eafc9c",
   "metadata": {},
   "outputs": [],
   "source": [
    "! pip install xgboost"
   ]
  },
  {
   "cell_type": "code",
   "execution_count": null,
   "id": "bf6b77f3-1dfb-4eb5-89dd-98813708a162",
   "metadata": {},
   "outputs": [],
   "source": [
    "import xgboost as xgb"
   ]
  },
  {
   "cell_type": "code",
   "execution_count": null,
   "id": "7f41496d-95f9-4463-b297-c29c148c6129",
   "metadata": {},
   "outputs": [],
   "source": [
    "dtrain = xgb.DMatrix(transformer5.transform(train_x), label=train_y)\n",
    "dtest = xgb.DMatrix(transformer5.transform(test_x), label=test_y)"
   ]
  },
  {
   "cell_type": "code",
   "execution_count": null,
   "id": "4581ae31-7ac7-48d0-a1f3-fbe60ae79421",
   "metadata": {},
   "outputs": [],
   "source": [
    "evallist = [(dtrain, 'train'), (dtest, 'eval')]"
   ]
  },
  {
   "cell_type": "code",
   "execution_count": null,
   "id": "a2715b76-61bb-4309-b0f3-68bf422e8bcc",
   "metadata": {},
   "outputs": [],
   "source": [
    "num_round = 30\n",
    "param = {'max_depth': 4, 'eta': 0.6, 'objective': 'binary:logistic'}\n",
    "param['nthread'] = 8\n",
    "param['eval_metric'] = 'auc'\n",
    "param['sampling_method'] = 'uniform'\n",
    "param['gamma'] = 0.02\n",
    "bst = xgb.train(param, dtrain, num_round, evals=evallist,early_stopping_rounds=20)"
   ]
  },
  {
   "cell_type": "code",
   "execution_count": null,
   "id": "f86a01d2-addd-464c-9fd8-58268497cedf",
   "metadata": {},
   "outputs": [],
   "source": [
    "display(accuracy_score(test_y.values, bst.predict(xgb.DMatrix(transformer5.transform(test_x)))))"
   ]
  },
  {
   "cell_type": "code",
   "execution_count": null,
   "id": "a9ea208f-862a-401a-bb02-74f56297d6d8",
   "metadata": {},
   "outputs": [],
   "source": [
    "display(RocCurveDisplay.from_predictions(test_y.values,bst.predict(xgb.DMatrix(transformer5.transform(test_x)))))"
   ]
  },
  {
   "cell_type": "code",
   "execution_count": null,
   "id": "24b787dd-e86f-4ceb-a720-5d35ad73be66",
   "metadata": {},
   "outputs": [],
   "source": [
    "from xgboost import plot_importance"
   ]
  },
  {
   "cell_type": "code",
   "execution_count": null,
   "id": "3ecf290f-b6ee-4dcb-a852-24f7e07c6a0f",
   "metadata": {},
   "outputs": [],
   "source": [
    "ix_to_col = [ v for i,v in enumerate(transformer5.get_feature_names_out()) ]"
   ]
  },
  {
   "cell_type": "code",
   "execution_count": null,
   "id": "fcaca74c-9c4e-470c-9097-db8a9ee5acd4",
   "metadata": {},
   "outputs": [],
   "source": [
    "bst.feature_names = ix_to_col"
   ]
  },
  {
   "cell_type": "code",
   "execution_count": null,
   "id": "ea948b74-ebcb-4bd7-92e8-f2087d85ae9b",
   "metadata": {},
   "outputs": [],
   "source": [
    "plot_importance(bst)"
   ]
  },
  {
   "cell_type": "code",
   "execution_count": null,
   "id": "b9d14d0a-97d0-488c-bc4a-e78fba8b049f",
   "metadata": {},
   "outputs": [],
   "source": [
    "ix_to_col[18]"
   ]
  },
  {
   "cell_type": "markdown",
   "id": "fc5f87ea-3668-470b-93f8-2f3d8fa12860",
   "metadata": {},
   "source": [
    "## XGBoost without the kmeans"
   ]
  },
  {
   "cell_type": "markdown",
   "id": "055ce028-bd8d-4391-a919-3708628474d3",
   "metadata": {},
   "source": [
    "👨‍💻: Alright let's make things a bit cleaner and define some functions"
   ]
  },
  {
   "cell_type": "code",
   "execution_count": null,
   "id": "2f9eee26-5cc2-43d5-8bd8-9cd9a3e33d34",
   "metadata": {},
   "outputs": [],
   "source": [
    "def create_prediction_pipeline(data_processor, classifier ) -> Pipeline:\n",
    "    \"\"\"Creates a prediction pipeline out of existing data processor and classifier\"\"\"\n",
    "    pipeline = Pipeline([\n",
    "        ('data_processing', data_processor),\n",
    "        ('classifier', classifier)\n",
    "    ])\n",
    "    return pipeline\n",
    "\n",
    "# Method to create a generic pipeline\n",
    "def make_pipe_with_classifier(clf):\n",
    "    numerical_pipeline = Pipeline([\n",
    "        ('scaler', StandardScaler()),\n",
    "    ])\n",
    "    \n",
    "    categorical_pipeline = Pipeline(steps=[\n",
    "        # TODO: raise when there are unknown values\n",
    "        ('one_hot_encoding', OneHotEncoder(handle_unknown='infrequent_if_exist')),\n",
    "    ])\n",
    "    transformer = ColumnTransformer([\n",
    "        ('numerical_simple_scaler', numerical_pipeline, ['age', 'campaign', 'pdays', 'previous', 'emp.var.rate', 'cons.price.idx', 'cons.conf.idx', 'euribor3m', 'nr.employed']),\n",
    "        ('categorical_handler', categorical_pipeline, ['job', 'marital', 'education', 'default', 'housing', 'loan', 'contact', 'month', 'day_of_week', 'poutcome'])\n",
    "    ])\n",
    "    pipeline = create_prediction_pipeline(transformer,clf)\n",
    "    return pipeline"
   ]
  },
  {
   "cell_type": "code",
   "execution_count": null,
   "id": "cf69982f-e691-4cff-947a-d0e46fc83a62",
   "metadata": {},
   "outputs": [],
   "source": [
    "simple_data_processing_pipeline = make_pipe_with_classifier(None).named_steps.data_processing"
   ]
  },
  {
   "cell_type": "code",
   "execution_count": null,
   "id": "23f0a8f5-6788-4a93-9ced-e48fd1962546",
   "metadata": {},
   "outputs": [],
   "source": [
    "scratch_dtrain = xgb.DMatrix(simple_data_processing_pipeline.fit_transform(train_x), label=train_y)\n",
    "scratcg_dtest = xgb.DMatrix(simple_data_processing_pipeline.transform(val_x), label=val_y)"
   ]
  },
  {
   "cell_type": "code",
   "execution_count": null,
   "id": "6c7d9b41-1e60-4f85-b76e-d90c0f256325",
   "metadata": {},
   "outputs": [],
   "source": [
    "%%time\n",
    "scratch_param = {'max_depth': 3, 'eta': 0.6, 'objective': 'binary:logistic'}\n",
    "scratch_param['nthread'] = 8\n",
    "scratch_param['eval_metric'] = 'auc'\n",
    "scratch_param['sampling_method'] = 'gradient_based'\n",
    "scratch_param['gamma'] = 0.02\n",
    "scratch_param['gpu_id'] = 0\n",
    "scratch_param['tree_method'] = 'gpu_hist'\n",
    "scratch_bst = xgb.train(scratch_param, scratch_dtrain, 50, evals=[(scratch_dtrain, 'train'), (scratcg_dtest, 'eval')],early_stopping_rounds=20)"
   ]
  },
  {
   "cell_type": "code",
   "execution_count": null,
   "id": "a5ae914f-5116-4b0e-901c-cd46b7d5211b",
   "metadata": {},
   "outputs": [],
   "source": [
    "from sklearn.metrics import f1_score, accuracy_score, recall_score"
   ]
  },
  {
   "cell_type": "code",
   "execution_count": null,
   "id": "95e029d8-5295-47a4-a750-18e633e0f20c",
   "metadata": {},
   "outputs": [],
   "source": []
  },
  {
   "cell_type": "code",
   "execution_count": null,
   "id": "afc34f7b-a2d3-4cd4-b49b-1616b63a17da",
   "metadata": {},
   "outputs": [],
   "source": [
    "display(RocCurveDisplay.from_predictions(test_y.values,scratch_bst.predict(xgb.DMatrix(simple_data_processing_pipeline.transform(test_x)))))"
   ]
  },
  {
   "cell_type": "markdown",
   "id": "971dc6be-a7b4-435d-a46e-599dbab153fd",
   "metadata": {},
   "source": [
    "👨‍💻: Don't ask me how I did this, I _don't_ remember. Actually I don't remember coding it, must have been a vision..."
   ]
  },
  {
   "cell_type": "code",
   "execution_count": null,
   "id": "77dff29a-9d42-4e84-bdee-12af4d394401",
   "metadata": {},
   "outputs": [],
   "source": [
    "scratch_bst.feature_names = [ v for i,v in enumerate(simple_data_processing_pipeline.get_feature_names_out()) ]\n",
    "plot_importance(scratch_bst, max_num_features=20)"
   ]
  },
  {
   "cell_type": "markdown",
   "id": "989540a6-4cc4-47e0-bb2d-912d9d68f020",
   "metadata": {},
   "source": [
    "**So it seems xgboost is _pretty_ fast and could make the job easier that will be our real model**"
   ]
  },
  {
   "cell_type": "code",
   "execution_count": null,
   "id": "893520f3-1625-4adb-a9ee-b1c3034cdd06",
   "metadata": {},
   "outputs": [],
   "source": [
    "# Let's save it\n",
    "import pickle\n",
    "scratch_bst.save_model('best_xgb_clf.model')\n",
    "with open('best_xgb_data_processing.pkl', 'wb') as f:\n",
    "    pickle.dump(simple_data_processing_pipeline, f)"
   ]
  },
  {
   "cell_type": "markdown",
   "id": "c5c17b59-a15e-46c1-adae-bb2b3f6d660d",
   "metadata": {},
   "source": [
    "<p style=\"font-size: 1.3em; color: red;\">End of section: XGBoost has entered the chat STOP HERE AND GO BACK TO INSTRUCTIONS</p>\n",
    "<hr/>"
   ]
  }
 ],
 "metadata": {
  "kernelspec": {
   "display_name": "Python 3 (ipykernel)",
   "language": "python",
   "name": "python3"
  },
  "language_info": {
   "codemirror_mode": {
    "name": "ipython",
    "version": 3
   },
   "file_extension": ".py",
   "mimetype": "text/x-python",
   "name": "python",
   "nbconvert_exporter": "python",
   "pygments_lexer": "ipython3",
   "version": "3.10.11"
  }
 },
 "nbformat": 4,
 "nbformat_minor": 5
}
