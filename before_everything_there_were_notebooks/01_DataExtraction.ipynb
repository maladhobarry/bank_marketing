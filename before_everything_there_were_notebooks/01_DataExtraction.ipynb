{
 "cells": [
  {
   "attachments": {},
   "cell_type": "markdown",
   "id": "7a560953-e136-4108-98f9-38aa55d69cb2",
   "metadata": {},
   "source": [
    "# The data\n",
    "The dataset is saved in multiple tables of a database:\n",
    "You can find a full copy of the database \"as of the start of the project\" in the file `data/bank/start.db`.\n",
    "\n",
    "We will extract the database into CSV files so that we can work with them a _bit_ more easily*.\n",
    "\n",
    "This notebook transforms the initial database into two CSV files:\n",
    "\n",
    "- `data/csv/bank_marketing_2008-05-01_to_2010-07-31.csv` (past: customers which have a label)\n",
    "- `data/csv/bank_marketing_2010-08-01_to_2010-09-30.csv` (to infer: customers to predict in the campaign between said dates)\n",
    "\n",
    "## Schema\n",
    "\n",
    "**Here are the unique considerations/specifications for this class:**\n",
    "1. `campaign` corresponds to the number of times it took an agent in order to reach.\n",
    "2. A contact (not the column) means an _attempt to reach a customer_\n",
    "\n",
    "\n",
    "|Variable|Also called|Description|Type|\n",
    "|--------|-----------|-----------|----|\n",
    "|age|||(numeric)||\n",
    "|job||type of job| (categorical: 'admin.','blue-collar','entrepreneur','housemaid','management','retired','self-employed','services','student','technician','unemployed','unknown')|\n",
    "|marital||marital status| (categorical: 'divorced','married','single','unknown'; note: 'divorced' means divorced or widowed)|\n",
    "|education||| (categorical: 'basic.4y','basic.6y','basic.9y','high.school','illiterate','professional.course','university.degree','unknown')|\n",
    "|default||has credit in default?| (categorical: 'no','yes','unknown')|\n",
    "|housing||has housing loan?| (categorical: 'no','yes','unknown')|\n",
    "|loan||has personal loan?| (categorical: 'no','yes','unknown')|\n",
    "|**RELATED WITH THE LAST CONTACT OF THE CURRENT CAMPAIGN:**|\n",
    "|contact|comm_type|contact communication type| (categorical: 'cellular','telephone') |\n",
    "|month|comm_month|last contact month of year| (categorical: 'jan', 'feb', 'mar', ..., 'nov', 'dec')|\n",
    "|day_of_week|comm_day|last contact day of the week| (categorical: 'mon','tue','wed','thu','fri')|\n",
    "|duration|comm_duration|last contact duration, in seconds| (numeric). Important note:  this attribute highly affects the output target (e.g., if duration=0 then y='no'). Yet, the duration is not known before a call is performed. Also, after the end of the call y is obviously known. Thus, this input should only be included for benchmark purposes and should be discarded if the intention is to have a realistic predictive model.|\n",
    "|**OTHER ATTRIBUTES**|\n",
    "|campaign|curr_n_contact|number of contacts performed during this campaign and for this client| (numeric, includes last contact)\n",
    "|pdays|days_since_last_campaign|number of days that passed by after the client was last contacted from a previous campaign| (numeric; 999 means client was not previously contacted)\n",
    "|previous|last_n_contact|number of contacts performed before this campaign and for this client| (numeric)\n",
    "|poutcome|last_outcome|outcome of the previous marketing campaign| (categorical: 'failure','nonexistent','success')\n",
    "|**SOCIAL AND ECONOMIC CONTEXT ATTRIBUTES**|\n",
    "|emp.var.rate||employment variation rate - quarterly indicator| (numeric)|\n",
    "|cons.price.idx||consumer price index - monthly indicator| (numeric)|\n",
    "|cons.conf.idx||consumer confidence index - monthly indicator| (numeric)|\n",
    "|euribor3m||euribor 3 month rate - daily indicator| (numeric)|\n",
    "|y|curr_outcome|Whether deposited|(categorical: 'yes', 'no')|\n",
    "\n",
    "## Notes\n",
    "We are working with a **modified version** of Bank Marketing dataset. Notably, not all the data is there for didactic reasons that will soon come.\n",
    "\n",
    "\n",
    "<hr>\n",
    "\n"
   ]
  },
  {
   "cell_type": "code",
   "execution_count": null,
   "id": "a1637de3-c73f-4bd5-b11d-113ca5955e00",
   "metadata": {},
   "outputs": [],
   "source": [
    "! pip install pandas"
   ]
  },
  {
   "cell_type": "code",
   "execution_count": null,
   "id": "ff1a78a7-c892-4bce-8f28-57fbe087c08b",
   "metadata": {},
   "outputs": [],
   "source": [
    "import pandas as pd"
   ]
  },
  {
   "cell_type": "code",
   "execution_count": null,
   "id": "554c39fb-785f-4bf0-bfc1-b1a5caafb019",
   "metadata": {},
   "outputs": [],
   "source": [
    "! pwd"
   ]
  },
  {
   "cell_type": "code",
   "execution_count": null,
   "id": "febad520-0d6b-4c8d-bb39-d67f66f7da3d",
   "metadata": {},
   "outputs": [],
   "source": [
    "! ls data"
   ]
  },
  {
   "cell_type": "code",
   "execution_count": null,
   "id": "07ff2fcd-c56d-4a4d-8d0a-8296e04754b6",
   "metadata": {},
   "outputs": [],
   "source": [
    "! ls -l data/bank"
   ]
  },
  {
   "cell_type": "code",
   "execution_count": null,
   "id": "5e77f2bb-808c-4ce8-962e-e62dc29c160c",
   "metadata": {},
   "outputs": [],
   "source": [
    "! readlink -f data/bank/start.db"
   ]
  },
  {
   "cell_type": "markdown",
   "id": "13d07f4b-f661-44cf-9550-16625ee5fb9c",
   "metadata": {},
   "source": [
    "### Socio eco"
   ]
  },
  {
   "cell_type": "code",
   "execution_count": null,
   "id": "1d1f9618-9247-4fc7-9ad3-38f85395e129",
   "metadata": {},
   "outputs": [],
   "source": [
    "df_socioeco = pd.read_csv('./data/external/socio_economic_indices_data.csv', sep=';')"
   ]
  },
  {
   "cell_type": "code",
   "execution_count": null,
   "id": "ab9f2f04-2138-44b6-844e-f4d56a7efabc",
   "metadata": {},
   "outputs": [],
   "source": [
    "df_socioeco.head()"
   ]
  },
  {
   "cell_type": "markdown",
   "id": "d1b9d859-704c-4af6-aa12-b0bf0ce01e06",
   "metadata": {},
   "source": [
    "## From database to CSVs"
   ]
  },
  {
   "cell_type": "code",
   "execution_count": null,
   "id": "ac240f47-9fd1-4f65-ae32-51338f48a995",
   "metadata": {},
   "outputs": [],
   "source": [
    "import sqlite3"
   ]
  },
  {
   "cell_type": "code",
   "execution_count": null,
   "id": "1ee5279e-2563-41ea-ba39-53fdfaa41717",
   "metadata": {},
   "outputs": [],
   "source": [
    "c = sqlite3.connect('./data/bank/start.db')"
   ]
  },
  {
   "cell_type": "code",
   "execution_count": null,
   "id": "52585698-c56e-4a44-9797-64805e481e6e",
   "metadata": {},
   "outputs": [],
   "source": [
    "# Print all campaigns\n",
    "cur = c.cursor()\n",
    "cur.execute(\n",
    "    \"SELECT comm_date,comm_year,comm_month,comm_day,comm_type,curr_outcome,comm_duration,curr_n_contact,days_since_last_campaign,last_n_contact,last_outcome,customer_id \\\n",
    "                FROM campaignMissions\")\n",
    "\n",
    "rows = cur.fetchall()\n",
    "\n",
    "print(len(rows))\n",
    "print(rows[-3:])\n",
    "\n",
    "cur.close()"
   ]
  },
  {
   "cell_type": "code",
   "execution_count": null,
   "id": "cd17c2b9-3219-434e-bec0-1cd7be451487",
   "metadata": {},
   "outputs": [],
   "source": [
    "cur = c.execute(\"SELECT * FROM customers\")\n",
    "customer_cols = ['id', 'first_name', 'last_name', 'email', 'phone', 'age', 'job',\n",
    "            'marital', 'education']\n",
    "df_customers = pd.DataFrame(cur, columns=customer_cols)"
   ]
  },
  {
   "cell_type": "code",
   "execution_count": null,
   "id": "5e8814a5-9467-4fd1-8e23-608122994f5d",
   "metadata": {},
   "outputs": [],
   "source": [
    "df_customers.head(2)"
   ]
  },
  {
   "cell_type": "code",
   "execution_count": null,
   "id": "0c486580-a76d-4b2c-8727-9ced94dd8453",
   "metadata": {},
   "outputs": [],
   "source": [
    "# Print not done campaigns\n",
    "cur = c.execute(\"SELECT * FROM sqlite_master WHERE type='table';\")\n",
    "\n",
    "cur.execute(\n",
    "            \"SELECT comm_date,comm_year,comm_month,comm_day,comm_type,curr_outcome,comm_duration,curr_n_contact,days_since_last_campaign,last_n_contact,last_outcome,customer_id\\\n",
    "                    FROM campaignMissions WHERE comm_duration IS NULL AND curr_outcome IS NULL\"\n",
    "        )\n",
    "df_not_done =  pd.DataFrame(cur, columns=[\n",
    "            'comm_date', 'comm_year', 'comm_month', 'comm_day', 'comm_type',\n",
    "            'curr_outcome', 'comm_duration', 'curr_n_contact',\n",
    "            'days_since_last_campaign', 'last_n_contact', 'last_outcome',\n",
    "            'customer_id'\n",
    "        ])"
   ]
  },
  {
   "cell_type": "code",
   "execution_count": null,
   "id": "69ad6cf5-a46e-4aeb-9315-b7bbb6e9ca84",
   "metadata": {},
   "outputs": [],
   "source": [
    "# Get done campaigns\n",
    "cur = c.execute(\n",
    "    \"SELECT comm_date,comm_year,comm_month,comm_day,comm_type,curr_outcome,comm_duration,curr_n_contact,days_since_last_campaign,last_n_contact,last_outcome,customer_id \\\n",
    "            FROM campaignMissions WHERE comm_duration IS NOT NULL AND curr_outcome IS NOT NULL\"\n",
    ")\n",
    "\n",
    "df_done = pd.DataFrame(cur, columns=[\n",
    "            'comm_date', 'comm_year', 'comm_month', 'comm_day', 'comm_type',\n",
    "            'curr_outcome', 'comm_duration', 'curr_n_contact',\n",
    "            'days_since_last_campaign', 'last_n_contact', 'last_outcome',\n",
    "            'customer_id'\n",
    "        ])"
   ]
  },
  {
   "cell_type": "code",
   "execution_count": null,
   "id": "22213be2-ee7b-4d85-a0d4-11e008eb6d5a",
   "metadata": {},
   "outputs": [],
   "source": [
    "df_done.head(2)"
   ]
  },
  {
   "cell_type": "code",
   "execution_count": null,
   "id": "6c7efda2-4f04-4282-9c53-6bbe0645181d",
   "metadata": {},
   "outputs": [],
   "source": [
    "df_not_done.head(2)"
   ]
  },
  {
   "cell_type": "code",
   "execution_count": null,
   "id": "e3dcd35f-fee4-4429-a4b6-f3c794597704",
   "metadata": {},
   "outputs": [],
   "source": [
    "cur = c.execute(\"SELECT status,start_date,due_date,amount_due,default_penalties,customer_id FROM mortgages\")\n",
    "df_mortgages = pd.DataFrame(cur, columns=[\"status\",\"start_date\",\"due_date\",\"amount_due\",\"default_penalties\",\"customer_id\"])"
   ]
  },
  {
   "cell_type": "code",
   "execution_count": null,
   "id": "becdc1a8-2f40-453f-ae1a-079179ac7d27",
   "metadata": {},
   "outputs": [],
   "source": [
    "df_mortgages.head()"
   ]
  },
  {
   "cell_type": "code",
   "execution_count": null,
   "id": "a5fba2c8-3f53-4343-b8bf-dcee2cee0b94",
   "metadata": {},
   "outputs": [],
   "source": [
    "cur = c.execute(\"SELECT status,start_date,due_date,amount_due,default_penalties,customer_id FROM loans\")\n",
    "df_loans = pd.DataFrame(cur, columns=[\"status\",\"start_date\",\"due_date\",\"amount_due\",\"default_penalties\",\"customer_id\"])"
   ]
  },
  {
   "cell_type": "markdown",
   "id": "eee35934-cf23-4097-8fb3-6fca78876f92",
   "metadata": {},
   "source": [
    "<hr>"
   ]
  },
  {
   "cell_type": "code",
   "execution_count": null,
   "id": "81771051-4dce-4cc6-91c9-21a99477156b",
   "metadata": {},
   "outputs": [],
   "source": [
    "df_mortgages.head(3)"
   ]
  },
  {
   "cell_type": "code",
   "execution_count": null,
   "id": "54e2bbf5-5ae1-411b-950e-61103e2de2d0",
   "metadata": {},
   "outputs": [],
   "source": [
    "df_loans['default_penalties'] == df_mortgages['default_penalties']"
   ]
  },
  {
   "cell_type": "markdown",
   "id": "954d50ce-79ef-4da2-9546-982db6d23dea",
   "metadata": {},
   "source": [
    "### Merging all tables\n",
    "#### DONE\n",
    "We need to make a dataframe with merged info"
   ]
  },
  {
   "cell_type": "code",
   "execution_count": null,
   "id": "94e6b3a1-8e10-42f6-831d-69a269102639",
   "metadata": {},
   "outputs": [],
   "source": [
    "df_2 = pd.merge(df_customers, df_done, left_on='id', right_on='customer_id',)"
   ]
  },
  {
   "cell_type": "code",
   "execution_count": null,
   "id": "9a28b905-a801-4b65-b1e2-1ec13f3b6324",
   "metadata": {},
   "outputs": [],
   "source": [
    "df_2 = pd.merge(df_2, df_loans, on='customer_id')"
   ]
  },
  {
   "cell_type": "code",
   "execution_count": null,
   "id": "472cfda5-86f6-4c05-bdeb-65c17e37ad82",
   "metadata": {},
   "outputs": [],
   "source": [
    "df_2 = pd.merge(df_2, df_mortgages, on='customer_id')"
   ]
  },
  {
   "cell_type": "code",
   "execution_count": null,
   "id": "8d3be3e1-ac6b-459c-8151-d8ed80e21e44",
   "metadata": {
    "scrolled": true
   },
   "outputs": [],
   "source": [
    "df_2 = pd.merge(df_2, df_socioeco, left_on='comm_date', right_on='date')"
   ]
  },
  {
   "cell_type": "code",
   "execution_count": null,
   "id": "d5e20023-db85-4259-8ae5-e895cb55f0d6",
   "metadata": {},
   "outputs": [],
   "source": [
    "df_2['loan'] = df_2['status_x'].replace({'paid': 'no','ongoing': 'yes', 'unknown': 'unknown'})\n",
    "df_2['housing'] = df_2['status_y'].replace({'paid': 'no','ongoing': 'yes', 'unknown': 'unknown'})"
   ]
  },
  {
   "cell_type": "code",
   "execution_count": null,
   "id": "d046b6a3-845d-4e10-9479-08ad64eecb91",
   "metadata": {},
   "outputs": [],
   "source": [
    "def make_penalty_indicator_x(row):\n",
    "    if pd.isna(row['default_penalties_x']):\n",
    "        return 'unknown'\n",
    "    if row['default_penalties_x'] == 0:\n",
    "        return 'no'\n",
    "    elif row['default_penalties_x'] > 0:\n",
    "        return 'yes'\n",
    "\n",
    "def make_penalty_indicator_y(row):\n",
    "    if pd.isna(row['default_penalties_y']):\n",
    "        return 'unknown'\n",
    "    if row['default_penalties_y'] == 0:\n",
    "        return 'no'\n",
    "    elif row['default_penalties_y'] > 0:\n",
    "        return 'yes'"
   ]
  },
  {
   "cell_type": "code",
   "execution_count": null,
   "id": "8b5eb230-6913-4a0a-9c24-b4fee170e7fe",
   "metadata": {},
   "outputs": [],
   "source": [
    "df_2['default_x'] = df_2.apply(make_penalty_indicator_x, axis=1)\n",
    "df_2['default_y'] = df_2.apply(make_penalty_indicator_y, axis=1)"
   ]
  },
  {
   "cell_type": "code",
   "execution_count": null,
   "id": "62f5c50f-7ab6-4af5-b6f1-9a423cb4264a",
   "metadata": {},
   "outputs": [],
   "source": [
    "def merge(row):\n",
    "    if row['default_x'] == 'yes' or row['default_y'] == 'yes':\n",
    "        return 'yes'\n",
    "    elif row['default_x'] == 'unknown' or row['default_y'] == 'unknown':\n",
    "        return 'unknown'\n",
    "    elif row['default_x'] == 'no' and row['default_y'] == 'no':\n",
    "        return 'no'"
   ]
  },
  {
   "cell_type": "code",
   "execution_count": null,
   "id": "3e215fe2-bee3-4f75-8fa4-c090dbb2ee6b",
   "metadata": {},
   "outputs": [],
   "source": [
    "df_2['default'] = df_2.apply(merge, axis=1)"
   ]
  },
  {
   "cell_type": "markdown",
   "id": "cca3e1da-2c12-4c45-bf08-74ae6e86af6a",
   "metadata": {},
   "source": [
    "#### Not done"
   ]
  },
  {
   "cell_type": "code",
   "execution_count": null,
   "id": "0883a1de-72ce-41f2-b5a7-5fe20dbe3c4a",
   "metadata": {},
   "outputs": [],
   "source": [
    "df_3 = pd.merge(df_customers, df_not_done, left_on='id', right_on='customer_id',)"
   ]
  },
  {
   "cell_type": "code",
   "execution_count": null,
   "id": "31ed9917-45ac-43e6-8704-96781281fbd1",
   "metadata": {},
   "outputs": [],
   "source": [
    "df_3 = pd.merge(df_3, df_loans, on='customer_id')"
   ]
  },
  {
   "cell_type": "code",
   "execution_count": null,
   "id": "04779688-4ec1-4370-a8d6-6b54e435b5d1",
   "metadata": {},
   "outputs": [],
   "source": [
    "df_3 = pd.merge(df_3, df_mortgages, on='customer_id')"
   ]
  },
  {
   "cell_type": "code",
   "execution_count": null,
   "id": "37df1ead-87e7-4206-95c6-4096686cf1f7",
   "metadata": {
    "scrolled": true
   },
   "outputs": [],
   "source": [
    "df_3 = pd.merge(df_3, df_socioeco, left_on='comm_date', right_on='date')"
   ]
  },
  {
   "cell_type": "code",
   "execution_count": null,
   "id": "9e9f9c59-20d2-40f6-8817-e93ffbefab0c",
   "metadata": {},
   "outputs": [],
   "source": [
    "df_3['loan'] = df_3['status_x'].replace({'paid': 'no','ongoing': 'yes', 'unknown': 'unknown'})\n",
    "df_3['housing'] = df_3['status_y'].replace({'paid': 'no','ongoing': 'yes', 'unknown': 'unknown'})"
   ]
  },
  {
   "cell_type": "code",
   "execution_count": null,
   "id": "df731575-8f04-4a7f-ac9c-b77862a7d230",
   "metadata": {},
   "outputs": [],
   "source": [
    "def make_penalty_indicator_x(row):\n",
    "    if pd.isna(row['default_penalties_x']):\n",
    "        return 'unknown'\n",
    "    if row['default_penalties_x'] == 0:\n",
    "        return 'no'\n",
    "    elif row['default_penalties_x'] > 0:\n",
    "        return 'yes'\n",
    "\n",
    "def make_penalty_indicator_y(row):\n",
    "    if pd.isna(row['default_penalties_y']):\n",
    "        return 'unknown'\n",
    "    if row['default_penalties_y'] == 0:\n",
    "        return 'no'\n",
    "    elif row['default_penalties_y'] > 0:\n",
    "        return 'yes'"
   ]
  },
  {
   "cell_type": "code",
   "execution_count": null,
   "id": "6bec2a63-22ef-4611-b969-ee2881af7d2b",
   "metadata": {},
   "outputs": [],
   "source": [
    "df_3['default_x'] = df_3.apply(make_penalty_indicator_x, axis=1)\n",
    "df_3['default_y'] = df_3.apply(make_penalty_indicator_y, axis=1)"
   ]
  },
  {
   "cell_type": "code",
   "execution_count": null,
   "id": "c68915e3-8214-404f-bc09-ea9ecee8734c",
   "metadata": {},
   "outputs": [],
   "source": [
    "df_3['default'] = df_3.apply(merge, axis=1)"
   ]
  },
  {
   "cell_type": "markdown",
   "id": "209916ec-582f-402c-aec1-c71b5f6ed19a",
   "metadata": {},
   "source": [
    "TO DROP"
   ]
  },
  {
   "cell_type": "code",
   "execution_count": null,
   "id": "99bff266-f59b-4673-9d22-666e9c3ab039",
   "metadata": {},
   "outputs": [],
   "source": [
    "TO_DROP_COLS = [\"id\",\"customer_id\",\"first_name\",\"last_name\",\"email\",\"phone\", \"date\", \"comm_year\", \"comm_date\",\"status_x\",\"start_date_x\",\"due_date_x\",\"amount_due_x\",\"default_penalties_x\",\"status_y\",\"start_date_y\",\"due_date_y\",\"amount_due_y\",\"default_penalties_y\", \"default_x\", \"default_y\"]"
   ]
  },
  {
   "cell_type": "code",
   "execution_count": null,
   "id": "1f006d1d-a56e-4f98-8376-5a6c31b157dd",
   "metadata": {},
   "outputs": [],
   "source": [
    "COL_ORDER = ['age', 'job', 'marital', 'education', 'comm_month',\n",
    "       'comm_day', 'comm_type', 'comm_duration', 'curr_n_contact', 'days_since_last_campaign', 'last_n_contact',\n",
    "       'last_outcome', 'emp.var.rate', 'cons.price.idx',\n",
    "       'cons.conf.idx', 'euribor3m', 'nr.employed', 'housing', 'loan',\n",
    "       'default', 'curr_outcome']"
   ]
  },
  {
   "cell_type": "code",
   "execution_count": null,
   "id": "d1c50c48-b8cd-494a-8b88-246b46f83085",
   "metadata": {
    "scrolled": true
   },
   "outputs": [],
   "source": [
    "df_final_not_done = df_3.drop(columns=TO_DROP_COLS)"
   ]
  },
  {
   "cell_type": "code",
   "execution_count": null,
   "id": "70fd3895-ed79-4c64-afe1-4412ecc4aa89",
   "metadata": {
    "scrolled": true
   },
   "outputs": [],
   "source": [
    "df_final = df_2.drop(columns=TO_DROP_COLS)"
   ]
  },
  {
   "cell_type": "code",
   "execution_count": null,
   "id": "a29cba31-66a8-439e-8c78-957d4ed81837",
   "metadata": {},
   "outputs": [],
   "source": [
    "print(df_final.shape)\n",
    "print(df_final_not_done.shape)"
   ]
  },
  {
   "cell_type": "code",
   "execution_count": null,
   "id": "cbbf08f1-e858-4762-8a84-8c53c27a709e",
   "metadata": {},
   "outputs": [],
   "source": [
    "# Saving dataframes\n",
    "df_final.to_csv('./data/csv/bank_marketing_2008-05-01_to_2010-07-31.csv', sep=';', index=False)\n",
    "df_final_not_done.to_csv('./data/csv/bank_marketing_2010-08-01_to_2010-09-30.csv', sep=';', index=False)"
   ]
  },
  {
   "cell_type": "code",
   "execution_count": null,
   "id": "c3e26be7-76ee-4fda-9f44-52173773c919",
   "metadata": {},
   "outputs": [],
   "source": [
    "df_final.columns"
   ]
  },
  {
   "cell_type": "markdown",
   "id": "36bd91b1-b6fe-434d-8b8c-567a9d1a28b6",
   "metadata": {},
   "source": [
    "## From CSVs to start of EDA process"
   ]
  },
  {
   "cell_type": "code",
   "execution_count": null,
   "id": "8afcb73d-a500-4a3d-9838-e2be37fe0870",
   "metadata": {},
   "outputs": [],
   "source": [
    "df1 = pd.read_csv('./data/csv/bank_marketing_2008-05-01_to_2010-07-31.csv', sep=';')"
   ]
  },
  {
   "cell_type": "code",
   "execution_count": null,
   "id": "4eb2e979-c43a-45cb-bd6b-b1614e29920e",
   "metadata": {},
   "outputs": [],
   "source": [
    "df2 = pd.read_csv('./data/csv/bank_marketing_2010-08-01_to_2010-09-30.csv', sep=';')"
   ]
  },
  {
   "cell_type": "code",
   "execution_count": null,
   "id": "63a94f78-a74d-406c-a847-af6f0c5290be",
   "metadata": {},
   "outputs": [],
   "source": [
    "print(\"df1\", df1.shape)\n",
    "print(\"df2\", df2.shape)"
   ]
  }
 ],
 "metadata": {
  "kernelspec": {
   "display_name": "Python 3 (ipykernel)",
   "language": "python",
   "name": "python3"
  },
  "language_info": {
   "codemirror_mode": {
    "name": "ipython",
    "version": 3
   },
   "file_extension": ".py",
   "mimetype": "text/x-python",
   "name": "python",
   "nbconvert_exporter": "python",
   "pygments_lexer": "ipython3",
   "version": "3.10.11"
  }
 },
 "nbformat": 4,
 "nbformat_minor": 5
}
